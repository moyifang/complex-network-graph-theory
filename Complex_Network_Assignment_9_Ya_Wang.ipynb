{
  "nbformat": 4,
  "nbformat_minor": 0,
  "metadata": {
    "colab": {
      "provenance": []
    },
    "kernelspec": {
      "name": "python3",
      "display_name": "Python 3"
    },
    "language_info": {
      "name": "python"
    }
  },
  "cells": [
    {
      "cell_type": "code",
      "source": [
        "!python -m pip install snap-stanford\n",
        "!pip install ndlib"
      ],
      "metadata": {
        "colab": {
          "base_uri": "https://localhost:8080/"
        },
        "id": "otU8jRDjuVrm",
        "outputId": "df91caf3-40cd-4385-9930-5d5002b1bce5"
      },
      "execution_count": 1,
      "outputs": [
        {
          "output_type": "stream",
          "name": "stdout",
          "text": [
            "Looking in indexes: https://pypi.org/simple, https://us-python.pkg.dev/colab-wheels/public/simple/\n",
            "Collecting snap-stanford\n",
            "  Downloading snap_stanford-6.0.0-cp38-cp38-manylinux1_x86_64.whl (11.6 MB)\n",
            "\u001b[K     |████████████████████████████████| 11.6 MB 4.0 MB/s \n",
            "\u001b[?25hInstalling collected packages: snap-stanford\n",
            "Successfully installed snap-stanford-6.0.0\n",
            "Looking in indexes: https://pypi.org/simple, https://us-python.pkg.dev/colab-wheels/public/simple/\n",
            "Collecting ndlib\n",
            "  Downloading ndlib-5.1.1-py3-none-any.whl (110 kB)\n",
            "\u001b[K     |████████████████████████████████| 110 kB 4.0 MB/s \n",
            "\u001b[?25hRequirement already satisfied: numpy in /usr/local/lib/python3.8/dist-packages (from ndlib) (1.21.6)\n",
            "Requirement already satisfied: networkx in /usr/local/lib/python3.8/dist-packages (from ndlib) (2.6.3)\n",
            "Requirement already satisfied: scipy in /usr/local/lib/python3.8/dist-packages (from ndlib) (1.7.3)\n",
            "Requirement already satisfied: future in /usr/local/lib/python3.8/dist-packages (from ndlib) (0.16.0)\n",
            "Collecting netdispatch\n",
            "  Downloading netdispatch-0.1.0-py3-none-any.whl (3.3 kB)\n",
            "Collecting python-igraph\n",
            "  Downloading python-igraph-0.10.2.tar.gz (9.5 kB)\n",
            "Requirement already satisfied: bokeh in /usr/local/lib/python3.8/dist-packages (from ndlib) (2.3.3)\n",
            "Collecting dynetx\n",
            "  Downloading dynetx-0.3.1-py3-none-any.whl (39 kB)\n",
            "Requirement already satisfied: tornado>=5.1 in /usr/local/lib/python3.8/dist-packages (from bokeh->ndlib) (6.0.4)\n",
            "Requirement already satisfied: packaging>=16.8 in /usr/local/lib/python3.8/dist-packages (from bokeh->ndlib) (21.3)\n",
            "Requirement already satisfied: pillow>=7.1.0 in /usr/local/lib/python3.8/dist-packages (from bokeh->ndlib) (7.1.2)\n",
            "Requirement already satisfied: PyYAML>=3.10 in /usr/local/lib/python3.8/dist-packages (from bokeh->ndlib) (6.0)\n",
            "Requirement already satisfied: typing-extensions>=3.7.4 in /usr/local/lib/python3.8/dist-packages (from bokeh->ndlib) (4.1.1)\n",
            "Requirement already satisfied: Jinja2>=2.9 in /usr/local/lib/python3.8/dist-packages (from bokeh->ndlib) (2.11.3)\n",
            "Requirement already satisfied: python-dateutil>=2.1 in /usr/local/lib/python3.8/dist-packages (from bokeh->ndlib) (2.8.2)\n",
            "Requirement already satisfied: MarkupSafe>=0.23 in /usr/local/lib/python3.8/dist-packages (from Jinja2>=2.9->bokeh->ndlib) (2.0.1)\n",
            "Requirement already satisfied: pyparsing!=3.0.5,>=2.0.2 in /usr/local/lib/python3.8/dist-packages (from packaging>=16.8->bokeh->ndlib) (3.0.9)\n",
            "Requirement already satisfied: six>=1.5 in /usr/local/lib/python3.8/dist-packages (from python-dateutil>=2.1->bokeh->ndlib) (1.15.0)\n",
            "Requirement already satisfied: decorator in /usr/local/lib/python3.8/dist-packages (from dynetx->ndlib) (4.4.2)\n",
            "Requirement already satisfied: tqdm in /usr/local/lib/python3.8/dist-packages (from dynetx->ndlib) (4.64.1)\n",
            "Collecting igraph==0.10.2\n",
            "  Downloading igraph-0.10.2-cp38-cp38-manylinux_2_17_x86_64.manylinux2014_x86_64.whl (3.3 MB)\n",
            "\u001b[K     |████████████████████████████████| 3.3 MB 15.9 MB/s \n",
            "\u001b[?25hCollecting texttable>=1.6.2\n",
            "  Downloading texttable-1.6.7-py2.py3-none-any.whl (10 kB)\n",
            "Building wheels for collected packages: python-igraph\n",
            "  Building wheel for python-igraph (setup.py) ... \u001b[?25l\u001b[?25hdone\n",
            "  Created wheel for python-igraph: filename=python_igraph-0.10.2-py3-none-any.whl size=9074 sha256=cdb01627a3f62ee2de278246b9bfc8c055c523cb4ef309ff4b020ca5530f61c3\n",
            "  Stored in directory: /root/.cache/pip/wheels/47/93/11/c7c992fab551e7a7fa504097aac4b992dac996aa1c81490afb\n",
            "Successfully built python-igraph\n",
            "Installing collected packages: texttable, igraph, python-igraph, netdispatch, dynetx, ndlib\n",
            "Successfully installed dynetx-0.3.1 igraph-0.10.2 ndlib-5.1.1 netdispatch-0.1.0 python-igraph-0.10.2 texttable-1.6.7\n"
          ]
        }
      ]
    },
    {
      "cell_type": "code",
      "execution_count": 2,
      "metadata": {
        "id": "-WaapjKYJfXI"
      },
      "outputs": [],
      "source": [
        "import random\n",
        "import matplotlib.pyplot as plt\n",
        "import csv\n",
        "from io import StringIO\n",
        "import pandas as pd\n",
        "from urllib.request import urlopen\n",
        "import numpy as np \n",
        "import numpy as np\n",
        "import networkx as nx\n",
        "\n",
        "#facebook ego data\n",
        "fe_edges = 'https://raw.githubusercontent.com/wang422003/Complex-Networks_exercise/main/Datasets/Group3/Facebook-Ego/348.edges'\n",
        "FE_edges =pd.read_csv(fe_edges,delimiter=\" \",names = [\"Node1\", \"Node2\"], encoding = \"ISO-8859-1\")\n",
        "\n",
        "fe_feat= 'https://raw.githubusercontent.com/wang422003/Complex-Networks_exercise/main/Datasets/Group3/Facebook-Ego/348.feat'\n",
        "FE_feat = pd.read_csv(fe_feat, delimiter=\" \", encoding = \"ISO-8859-1\",header = None)"
      ]
    },
    {
      "cell_type": "code",
      "source": [
        "print(FE_feat)"
      ],
      "metadata": {
        "id": "oQYschMNYGdo",
        "outputId": "077312af-7eea-4086-a521-7bcfc779a2bc",
        "colab": {
          "base_uri": "https://localhost:8080/"
        }
      },
      "execution_count": 3,
      "outputs": [
        {
          "output_type": "stream",
          "name": "stdout",
          "text": [
            "     0    1    2    3    4    5    6    7    8    9    ...  152  153  154  \\\n",
            "0    349    0    0    0    0    0    0    0    0    0  ...    0    0    0   \n",
            "1    350    0    0    0    0    0    0    1    0    0  ...    0    0    0   \n",
            "2    351    0    0    0    1    0    0    0    0    0  ...    0    0    0   \n",
            "3    352    0    0    0    0    0    0    0    0    0  ...    0    0    0   \n",
            "4    353    0    0    0    0    0    0    0    0    1  ...    0    0    0   \n",
            "..   ...  ...  ...  ...  ...  ...  ...  ...  ...  ...  ...  ...  ...  ...   \n",
            "145  492    0    0    0    0    0    0    0    0    0  ...    0    0    0   \n",
            "146  493    0    0    0    0    0    0    0    1    0  ...    0    0    0   \n",
            "147  494    0    0    0    0    0    0    0    0    0  ...    0    0    0   \n",
            "148  495    0    0    0    0    0    0    0    0    0  ...    0    0    0   \n",
            "149  496    0    0    0    0    0    0    0    0    0  ...    0    0    0   \n",
            "\n",
            "     155  156  157  158  159  160  161  \n",
            "0      0    0    0    0    0    0    0  \n",
            "1      0    0    0    0    0    0    0  \n",
            "2      0    0    0    0    0    0    0  \n",
            "3      0    0    0    0    0    0    0  \n",
            "4      0    0    0    0    0    0    0  \n",
            "..   ...  ...  ...  ...  ...  ...  ...  \n",
            "145    0    0    0    0    0    0    0  \n",
            "146    0    0    0    0    0    0    0  \n",
            "147    0    0    0    0    0    0    0  \n",
            "148    0    0    0    0    0    0    0  \n",
            "149    0    0    0    0    0    0    0  \n",
            "\n",
            "[150 rows x 162 columns]\n"
          ]
        }
      ]
    },
    {
      "cell_type": "markdown",
      "metadata": {
        "id": "s7WOlLGSm_KE"
      },
      "source": [
        ">Creating Facebook graph\n",
        "\n",
        "\n"
      ]
    },
    {
      "cell_type": "code",
      "source": [
        "FB_G = nx.Graph()\n",
        "V = np.unique(FE_edges.values.flatten())\n",
        "FB_G.add_nodes_from(V)\n",
        "E = FE_edges.values\n",
        "for e1,e2 in E:\n",
        "  FB_G.add_edge(int(e1), int(e2)) \n"
      ],
      "metadata": {
        "id": "Inl8to7hm9bi"
      },
      "execution_count": 4,
      "outputs": []
    },
    {
      "cell_type": "markdown",
      "metadata": {
        "id": "x7eQRTUxUeO3"
      },
      "source": [
        "# **assigment 9 **\n",
        "\n",
        "---"
      ]
    },
    {
      "cell_type": "markdown",
      "source": [
        "We can predict links based on available features in the graph. Please randomly delete 10% of the\n",
        "edges in the graph, and use any features to train a conventional machine learning algorithm to predict\n",
        "the deleted edges. Please output a report of the prediction accuracy, AUROC, precision and ROC\n",
        "curve."
      ],
      "metadata": {
        "id": "2_0oPMmbgs44"
      }
    },
    {
      "cell_type": "code",
      "source": [
        "def random_edge(G, p=0.10):\n",
        "  edges = np.array(G.edges)\n",
        "  edge_list = edges[np.random.choice(edges.shape[0], size=int(np.round(p*edges.shape[0])), replace=False), :]\n",
        "  return edge_list.tolist()\n",
        "\n",
        "edge_list = random_edge(FB_G, p=0.10)\n",
        "print(f'{edge_list = }')\n",
        "print(f'number of edges : {len(edge_list)}')"
      ],
      "metadata": {
        "colab": {
          "base_uri": "https://localhost:8080/"
        },
        "id": "Nm4wcnzArLCA",
        "outputId": "06f9b6f9-4a28-434b-81e0-4b75262912d6"
      },
      "execution_count": 5,
      "outputs": [
        {
          "output_type": "stream",
          "name": "stdout",
          "text": [
            "edge_list = [[372, 460], [367, 412], [388, 421], [463, 483], [395, 452], [428, 463], [434, 496], [400, 475], [363, 432], [378, 487], [389, 459], [369, 378], [474, 489], [402, 422], [397, 418], [388, 475], [400, 417], [407, 455], [367, 403], [198, 364], [363, 461], [363, 373], [432, 439], [366, 483], [392, 492], [408, 456], [373, 388], [376, 390], [456, 465], [395, 412], [438, 488], [391, 417], [474, 475], [483, 493], [404, 444], [413, 465], [373, 390], [376, 394], [363, 412], [415, 495], [412, 452], [419, 486], [392, 428], [402, 495], [422, 474], [373, 439], [373, 423], [376, 458], [359, 403], [404, 487], [402, 463], [440, 449], [417, 444], [428, 436], [361, 481], [417, 479], [445, 463], [404, 415], [439, 471], [409, 431], [359, 474], [368, 494], [444, 473], [436, 488], [436, 496], [473, 479], [414, 483], [402, 465], [387, 395], [452, 489], [437, 453], [388, 465], [439, 475], [461, 471], [376, 442], [363, 482], [438, 444], [391, 465], [355, 452], [387, 400], [391, 400], [456, 493], [428, 473], [374, 391], [400, 444], [432, 465], [475, 489], [382, 410], [363, 366], [363, 374], [34, 173], [400, 421], [477, 485], [366, 496], [408, 487], [423, 444], [395, 479], [353, 460], [362, 412], [429, 455], [439, 456], [359, 361], [397, 449], [360, 460], [412, 461], [432, 451], [487, 492], [475, 492], [431, 434], [359, 470], [369, 477], [404, 421], [408, 493], [367, 416], [367, 422], [412, 493], [376, 397], [412, 428], [353, 370], [398, 431], [404, 409], [355, 396], [375, 494], [414, 431], [397, 422]]\n",
            "number of edges : 125\n"
          ]
        }
      ]
    },
    {
      "cell_type": "code",
      "source": [
        "def remove_edges(G, edge_list):\n",
        "  \"\"\"\n",
        "  Remove edges from a graph G\n",
        "  \"\"\"\n",
        "  G_temp = G.copy()\n",
        "  G_temp.remove_edges_from(edge_list)\n",
        "  return G_temp\n",
        "\n",
        "# G_fb_nx_del is a graph with randomly deleted 10% of the edges from the Facebook graph FB_G\n",
        "FB_G_del = remove_edges(FB_G, edge_list)\n",
        "print(f'Before removing, number of edges : {len(FB_G.edges)}')\n",
        "print(f'After removing , number of edges : {len(FB_G_del.edges)}')"
      ],
      "metadata": {
        "colab": {
          "base_uri": "https://localhost:8080/"
        },
        "id": "nAT05970rT5o",
        "outputId": "59ee67fa-0027-43fe-f68a-74991da4bd37"
      },
      "execution_count": 6,
      "outputs": [
        {
          "output_type": "stream",
          "name": "stdout",
          "text": [
            "Before removing, number of edges : 1248\n",
            "After removing , number of edges : 1123\n"
          ]
        }
      ]
    },
    {
      "cell_type": "code",
      "source": [
        "def link(G_complete, G):\n",
        "  \"\"\"\n",
        "  Return a list of edges with 0 if the edges has been removed and 1 otherwise\n",
        "  G_complete : a complete graph ased on all the nodes in G\n",
        "  G : original graph\n",
        "  \"\"\"\n",
        "  link = []\n",
        "  for e in G_complete.edges:\n",
        "    if e in G.edges:\n",
        "      link.append([e[0], e[1], 1])\n",
        "    else:\n",
        "      link.append([e[0], e[1], 0])\n",
        "  return link\n",
        "\n",
        "data = link(nx.complete_graph(FB_G.nodes, nx.Graph()), FB_G_del)\n",
        "data[:6]"
      ],
      "metadata": {
        "colab": {
          "base_uri": "https://localhost:8080/"
        },
        "id": "xV5GNVj3rWVd",
        "outputId": "a1dc58b2-37bb-4dba-d991-c49b18723c90"
      },
      "execution_count": 7,
      "outputs": [
        {
          "output_type": "execute_result",
          "data": {
            "text/plain": [
              "[[34, 173, 0],\n",
              " [34, 198, 0],\n",
              " [34, 349, 0],\n",
              " [34, 350, 0],\n",
              " [34, 351, 0],\n",
              " [34, 352, 0]]"
            ]
          },
          "metadata": {},
          "execution_count": 7
        }
      ]
    },
    {
      "cell_type": "code",
      "source": [
        "# training a machine learning algorithm using any features to predict the deleted edges\n",
        "df_data = pd.DataFrame(data=data, columns  = ['Source', 'Target' , 'Link'])\n",
        "df_data.head(6)"
      ],
      "metadata": {
        "colab": {
          "base_uri": "https://localhost:8080/",
          "height": 237
        },
        "id": "_mHY-O5srZx9",
        "outputId": "b7fc2a3f-6528-45ad-c44b-3a4e793bb14c"
      },
      "execution_count": 8,
      "outputs": [
        {
          "output_type": "execute_result",
          "data": {
            "text/plain": [
              "   Source  Target  Link\n",
              "0      34     173     0\n",
              "1      34     198     0\n",
              "2      34     349     0\n",
              "3      34     350     0\n",
              "4      34     351     0\n",
              "5      34     352     0"
            ],
            "text/html": [
              "\n",
              "  <div id=\"df-fed82265-b4a9-4931-bff7-5e3cf5ebd553\">\n",
              "    <div class=\"colab-df-container\">\n",
              "      <div>\n",
              "<style scoped>\n",
              "    .dataframe tbody tr th:only-of-type {\n",
              "        vertical-align: middle;\n",
              "    }\n",
              "\n",
              "    .dataframe tbody tr th {\n",
              "        vertical-align: top;\n",
              "    }\n",
              "\n",
              "    .dataframe thead th {\n",
              "        text-align: right;\n",
              "    }\n",
              "</style>\n",
              "<table border=\"1\" class=\"dataframe\">\n",
              "  <thead>\n",
              "    <tr style=\"text-align: right;\">\n",
              "      <th></th>\n",
              "      <th>Source</th>\n",
              "      <th>Target</th>\n",
              "      <th>Link</th>\n",
              "    </tr>\n",
              "  </thead>\n",
              "  <tbody>\n",
              "    <tr>\n",
              "      <th>0</th>\n",
              "      <td>34</td>\n",
              "      <td>173</td>\n",
              "      <td>0</td>\n",
              "    </tr>\n",
              "    <tr>\n",
              "      <th>1</th>\n",
              "      <td>34</td>\n",
              "      <td>198</td>\n",
              "      <td>0</td>\n",
              "    </tr>\n",
              "    <tr>\n",
              "      <th>2</th>\n",
              "      <td>34</td>\n",
              "      <td>349</td>\n",
              "      <td>0</td>\n",
              "    </tr>\n",
              "    <tr>\n",
              "      <th>3</th>\n",
              "      <td>34</td>\n",
              "      <td>350</td>\n",
              "      <td>0</td>\n",
              "    </tr>\n",
              "    <tr>\n",
              "      <th>4</th>\n",
              "      <td>34</td>\n",
              "      <td>351</td>\n",
              "      <td>0</td>\n",
              "    </tr>\n",
              "    <tr>\n",
              "      <th>5</th>\n",
              "      <td>34</td>\n",
              "      <td>352</td>\n",
              "      <td>0</td>\n",
              "    </tr>\n",
              "  </tbody>\n",
              "</table>\n",
              "</div>\n",
              "      <button class=\"colab-df-convert\" onclick=\"convertToInteractive('df-fed82265-b4a9-4931-bff7-5e3cf5ebd553')\"\n",
              "              title=\"Convert this dataframe to an interactive table.\"\n",
              "              style=\"display:none;\">\n",
              "        \n",
              "  <svg xmlns=\"http://www.w3.org/2000/svg\" height=\"24px\"viewBox=\"0 0 24 24\"\n",
              "       width=\"24px\">\n",
              "    <path d=\"M0 0h24v24H0V0z\" fill=\"none\"/>\n",
              "    <path d=\"M18.56 5.44l.94 2.06.94-2.06 2.06-.94-2.06-.94-.94-2.06-.94 2.06-2.06.94zm-11 1L8.5 8.5l.94-2.06 2.06-.94-2.06-.94L8.5 2.5l-.94 2.06-2.06.94zm10 10l.94 2.06.94-2.06 2.06-.94-2.06-.94-.94-2.06-.94 2.06-2.06.94z\"/><path d=\"M17.41 7.96l-1.37-1.37c-.4-.4-.92-.59-1.43-.59-.52 0-1.04.2-1.43.59L10.3 9.45l-7.72 7.72c-.78.78-.78 2.05 0 2.83L4 21.41c.39.39.9.59 1.41.59.51 0 1.02-.2 1.41-.59l7.78-7.78 2.81-2.81c.8-.78.8-2.07 0-2.86zM5.41 20L4 18.59l7.72-7.72 1.47 1.35L5.41 20z\"/>\n",
              "  </svg>\n",
              "      </button>\n",
              "      \n",
              "  <style>\n",
              "    .colab-df-container {\n",
              "      display:flex;\n",
              "      flex-wrap:wrap;\n",
              "      gap: 12px;\n",
              "    }\n",
              "\n",
              "    .colab-df-convert {\n",
              "      background-color: #E8F0FE;\n",
              "      border: none;\n",
              "      border-radius: 50%;\n",
              "      cursor: pointer;\n",
              "      display: none;\n",
              "      fill: #1967D2;\n",
              "      height: 32px;\n",
              "      padding: 0 0 0 0;\n",
              "      width: 32px;\n",
              "    }\n",
              "\n",
              "    .colab-df-convert:hover {\n",
              "      background-color: #E2EBFA;\n",
              "      box-shadow: 0px 1px 2px rgba(60, 64, 67, 0.3), 0px 1px 3px 1px rgba(60, 64, 67, 0.15);\n",
              "      fill: #174EA6;\n",
              "    }\n",
              "\n",
              "    [theme=dark] .colab-df-convert {\n",
              "      background-color: #3B4455;\n",
              "      fill: #D2E3FC;\n",
              "    }\n",
              "\n",
              "    [theme=dark] .colab-df-convert:hover {\n",
              "      background-color: #434B5C;\n",
              "      box-shadow: 0px 1px 3px 1px rgba(0, 0, 0, 0.15);\n",
              "      filter: drop-shadow(0px 1px 2px rgba(0, 0, 0, 0.3));\n",
              "      fill: #FFFFFF;\n",
              "    }\n",
              "  </style>\n",
              "\n",
              "      <script>\n",
              "        const buttonEl =\n",
              "          document.querySelector('#df-fed82265-b4a9-4931-bff7-5e3cf5ebd553 button.colab-df-convert');\n",
              "        buttonEl.style.display =\n",
              "          google.colab.kernel.accessAllowed ? 'block' : 'none';\n",
              "\n",
              "        async function convertToInteractive(key) {\n",
              "          const element = document.querySelector('#df-fed82265-b4a9-4931-bff7-5e3cf5ebd553');\n",
              "          const dataTable =\n",
              "            await google.colab.kernel.invokeFunction('convertToInteractive',\n",
              "                                                     [key], {});\n",
              "          if (!dataTable) return;\n",
              "\n",
              "          const docLinkHtml = 'Like what you see? Visit the ' +\n",
              "            '<a target=\"_blank\" href=https://colab.research.google.com/notebooks/data_table.ipynb>data table notebook</a>'\n",
              "            + ' to learn more about interactive tables.';\n",
              "          element.innerHTML = '';\n",
              "          dataTable['output_type'] = 'display_data';\n",
              "          await google.colab.output.renderOutput(dataTable, element);\n",
              "          const docLink = document.createElement('div');\n",
              "          docLink.innerHTML = docLinkHtml;\n",
              "          element.appendChild(docLink);\n",
              "        }\n",
              "      </script>\n",
              "    </div>\n",
              "  </div>\n",
              "  "
            ]
          },
          "metadata": {},
          "execution_count": 8
        }
      ]
    },
    {
      "cell_type": "code",
      "source": [
        "print(df_data['Link'].value_counts())\n",
        "plt.pie(df_data['Link'].value_counts())\n",
        "plt.show() "
      ],
      "metadata": {
        "colab": {
          "base_uri": "https://localhost:8080/",
          "height": 300
        },
        "id": "mANc_AXWrk8f",
        "outputId": "a4cdd59c-9c8e-4ba4-9f7e-08ffcc434dd7"
      },
      "execution_count": 9,
      "outputs": [
        {
          "output_type": "stream",
          "name": "stdout",
          "text": [
            "0    9755\n",
            "1    1123\n",
            "Name: Link, dtype: int64\n"
          ]
        },
        {
          "output_type": "display_data",
          "data": {
            "text/plain": [
              "<Figure size 432x288 with 1 Axes>"
            ],
            "image/png": "[encoded data removed]"
          },
          "metadata": {}
        }
      ]
    },
    {
      "cell_type": "code",
      "source": [
        "### Undersampling \n",
        "def undersample(df, col):\n",
        "  minority = df[df[col]==1]\n",
        "  majority = df[df[col]==0]\n",
        "  majority = majority.sample(n=len(minority), random_state=101)\n",
        "  df = pd.concat([minority,majority],axis=0)\n",
        "  return df\n",
        "\n",
        "df_data = undersample(df_data, 'Link')\n",
        "print(df_data['Link'].value_counts())\n",
        "plt.pie(df_data['Link'].value_counts())\n",
        "plt.show() "
      ],
      "metadata": {
        "colab": {
          "base_uri": "https://localhost:8080/",
          "height": 300
        },
        "id": "ED9iy6D8rcbx",
        "outputId": "164b1ecf-5823-4ec4-f292-66ad770f8e98"
      },
      "execution_count": 10,
      "outputs": [
        {
          "output_type": "stream",
          "name": "stdout",
          "text": [
            "1    1123\n",
            "0    1123\n",
            "Name: Link, dtype: int64\n"
          ]
        },
        {
          "output_type": "display_data",
          "data": {
            "text/plain": [
              "<Figure size 432x288 with 1 Axes>"
            ],
            "image/png": "[encoded data removed]"
          },
          "metadata": {}
        }
      ]
    },
    {
      "cell_type": "code",
      "source": [
        "def feature_extraction(df, G, add_link = True) :\n",
        "  \"\"\"\n",
        "  Expand the feature of the dataframe df using the different features we collect from the graph G\n",
        "  \"\"\"\n",
        "  pr_dict = nx.pagerank(G)\n",
        "  degCent = nx.degree_centrality(G)\n",
        "  betCent = nx.betweenness_centrality(G, normalized=True, endpoints=True, k = 50)\n",
        "    \n",
        "  final_data_list = []\n",
        "\n",
        "  for index, row in df.iterrows():\n",
        "      src = row['Source']\n",
        "      tgt = row['Target']\n",
        "      \n",
        "      data_list = []\n",
        "      data_list.append(pr_dict[src])\n",
        "      data_list.append(degCent[src])\n",
        "      data_list.append(betCent[src])\n",
        "      data_list.append(pr_dict[tgt])\n",
        "      data_list.append(degCent[tgt])\n",
        "      data_list.append(betCent[tgt])\n",
        "\n",
        "      if add_link == True :\n",
        "          data_list.append(row['Link'])\n",
        "      \n",
        "      final_data_list.append(data_list)\n",
        "\n",
        "  if add_link == True :\n",
        "      col_list = ['SrcPageRank', 'SrcDegCnt', 'SrcBetCnt', 'TgtPageRank', 'TgtDegCnt', 'TgtBetCnt', 'Link']\n",
        "      new_df = pd.DataFrame(final_data_list, columns = col_list)        \n",
        "  else :\n",
        "      col_list = ['SrcPageRank', 'SrcDegCnt', 'SrcBetCnt', 'TgtPageRank', 'TgtDegCnt', 'TgtBetCnt']\n",
        "      new_df = pd.DataFrame(final_data_list, columns = col_list)        \n",
        "  return new_df\n",
        "            \n",
        "df_data_expand = feature_extraction(df_data, FB_G_del, add_link = True)\n",
        "df_data_expand.head(6)"
      ],
      "metadata": {
        "colab": {
          "base_uri": "https://localhost:8080/",
          "height": 237
        },
        "id": "bOXb7BGXrhSZ",
        "outputId": "cbad8694-134d-4056-c1b5-ed0fa3c7c86f"
      },
      "execution_count": 12,
      "outputs": [
        {
          "output_type": "execute_result",
          "data": {
            "text/plain": [
              "   SrcPageRank  SrcDegCnt  SrcBetCnt  TgtPageRank  TgtDegCnt  TgtBetCnt  Link\n",
              "0     0.001668   0.013605   0.006122     0.010742   0.176871   0.058886     1\n",
              "1     0.001668   0.013605   0.006122     0.014269   0.272109   0.042006     1\n",
              "2     0.002962   0.020408   0.025104     0.010742   0.176871   0.058886     1\n",
              "3     0.002962   0.020408   0.025104     0.004210   0.040816   0.031987     1\n",
              "4     0.002962   0.020408   0.025104     0.003533   0.020408   0.008388     1\n",
              "5     0.008195   0.034014   0.001565     0.006140   0.020408   0.000844     1"
            ],
            "text/html": [
              "\n",
              "  <div id=\"df-3a54928a-1b4a-4d3d-8480-a4e40bd0bbce\">\n",
              "    <div class=\"colab-df-container\">\n",
              "      <div>\n",
              "<style scoped>\n",
              "    .dataframe tbody tr th:only-of-type {\n",
              "        vertical-align: middle;\n",
              "    }\n",
              "\n",
              "    .dataframe tbody tr th {\n",
              "        vertical-align: top;\n",
              "    }\n",
              "\n",
              "    .dataframe thead th {\n",
              "        text-align: right;\n",
              "    }\n",
              "</style>\n",
              "<table border=\"1\" class=\"dataframe\">\n",
              "  <thead>\n",
              "    <tr style=\"text-align: right;\">\n",
              "      <th></th>\n",
              "      <th>SrcPageRank</th>\n",
              "      <th>SrcDegCnt</th>\n",
              "      <th>SrcBetCnt</th>\n",
              "      <th>TgtPageRank</th>\n",
              "      <th>TgtDegCnt</th>\n",
              "      <th>TgtBetCnt</th>\n",
              "      <th>Link</th>\n",
              "    </tr>\n",
              "  </thead>\n",
              "  <tbody>\n",
              "    <tr>\n",
              "      <th>0</th>\n",
              "      <td>0.001668</td>\n",
              "      <td>0.013605</td>\n",
              "      <td>0.006122</td>\n",
              "      <td>0.010742</td>\n",
              "      <td>0.176871</td>\n",
              "      <td>0.058886</td>\n",
              "      <td>1</td>\n",
              "    </tr>\n",
              "    <tr>\n",
              "      <th>1</th>\n",
              "      <td>0.001668</td>\n",
              "      <td>0.013605</td>\n",
              "      <td>0.006122</td>\n",
              "      <td>0.014269</td>\n",
              "      <td>0.272109</td>\n",
              "      <td>0.042006</td>\n",
              "      <td>1</td>\n",
              "    </tr>\n",
              "    <tr>\n",
              "      <th>2</th>\n",
              "      <td>0.002962</td>\n",
              "      <td>0.020408</td>\n",
              "      <td>0.025104</td>\n",
              "      <td>0.010742</td>\n",
              "      <td>0.176871</td>\n",
              "      <td>0.058886</td>\n",
              "      <td>1</td>\n",
              "    </tr>\n",
              "    <tr>\n",
              "      <th>3</th>\n",
              "      <td>0.002962</td>\n",
              "      <td>0.020408</td>\n",
              "      <td>0.025104</td>\n",
              "      <td>0.004210</td>\n",
              "      <td>0.040816</td>\n",
              "      <td>0.031987</td>\n",
              "      <td>1</td>\n",
              "    </tr>\n",
              "    <tr>\n",
              "      <th>4</th>\n",
              "      <td>0.002962</td>\n",
              "      <td>0.020408</td>\n",
              "      <td>0.025104</td>\n",
              "      <td>0.003533</td>\n",
              "      <td>0.020408</td>\n",
              "      <td>0.008388</td>\n",
              "      <td>1</td>\n",
              "    </tr>\n",
              "    <tr>\n",
              "      <th>5</th>\n",
              "      <td>0.008195</td>\n",
              "      <td>0.034014</td>\n",
              "      <td>0.001565</td>\n",
              "      <td>0.006140</td>\n",
              "      <td>0.020408</td>\n",
              "      <td>0.000844</td>\n",
              "      <td>1</td>\n",
              "    </tr>\n",
              "  </tbody>\n",
              "</table>\n",
              "</div>\n",
              "      <button class=\"colab-df-convert\" onclick=\"convertToInteractive('df-3a54928a-1b4a-4d3d-8480-a4e40bd0bbce')\"\n",
              "              title=\"Convert this dataframe to an interactive table.\"\n",
              "              style=\"display:none;\">\n",
              "        \n",
              "  <svg xmlns=\"http://www.w3.org/2000/svg\" height=\"24px\"viewBox=\"0 0 24 24\"\n",
              "       width=\"24px\">\n",
              "    <path d=\"M0 0h24v24H0V0z\" fill=\"none\"/>\n",
              "    <path d=\"M18.56 5.44l.94 2.06.94-2.06 2.06-.94-2.06-.94-.94-2.06-.94 2.06-2.06.94zm-11 1L8.5 8.5l.94-2.06 2.06-.94-2.06-.94L8.5 2.5l-.94 2.06-2.06.94zm10 10l.94 2.06.94-2.06 2.06-.94-2.06-.94-.94-2.06-.94 2.06-2.06.94z\"/><path d=\"M17.41 7.96l-1.37-1.37c-.4-.4-.92-.59-1.43-.59-.52 0-1.04.2-1.43.59L10.3 9.45l-7.72 7.72c-.78.78-.78 2.05 0 2.83L4 21.41c.39.39.9.59 1.41.59.51 0 1.02-.2 1.41-.59l7.78-7.78 2.81-2.81c.8-.78.8-2.07 0-2.86zM5.41 20L4 18.59l7.72-7.72 1.47 1.35L5.41 20z\"/>\n",
              "  </svg>\n",
              "      </button>\n",
              "      \n",
              "  <style>\n",
              "    .colab-df-container {\n",
              "      display:flex;\n",
              "      flex-wrap:wrap;\n",
              "      gap: 12px;\n",
              "    }\n",
              "\n",
              "    .colab-df-convert {\n",
              "      background-color: #E8F0FE;\n",
              "      border: none;\n",
              "      border-radius: 50%;\n",
              "      cursor: pointer;\n",
              "      display: none;\n",
              "      fill: #1967D2;\n",
              "      height: 32px;\n",
              "      padding: 0 0 0 0;\n",
              "      width: 32px;\n",
              "    }\n",
              "\n",
              "    .colab-df-convert:hover {\n",
              "      background-color: #E2EBFA;\n",
              "      box-shadow: 0px 1px 2px rgba(60, 64, 67, 0.3), 0px 1px 3px 1px rgba(60, 64, 67, 0.15);\n",
              "      fill: #174EA6;\n",
              "    }\n",
              "\n",
              "    [theme=dark] .colab-df-convert {\n",
              "      background-color: #3B4455;\n",
              "      fill: #D2E3FC;\n",
              "    }\n",
              "\n",
              "    [theme=dark] .colab-df-convert:hover {\n",
              "      background-color: #434B5C;\n",
              "      box-shadow: 0px 1px 3px 1px rgba(0, 0, 0, 0.15);\n",
              "      filter: drop-shadow(0px 1px 2px rgba(0, 0, 0, 0.3));\n",
              "      fill: #FFFFFF;\n",
              "    }\n",
              "  </style>\n",
              "\n",
              "      <script>\n",
              "        const buttonEl =\n",
              "          document.querySelector('#df-3a54928a-1b4a-4d3d-8480-a4e40bd0bbce button.colab-df-convert');\n",
              "        buttonEl.style.display =\n",
              "          google.colab.kernel.accessAllowed ? 'block' : 'none';\n",
              "\n",
              "        async function convertToInteractive(key) {\n",
              "          const element = document.querySelector('#df-3a54928a-1b4a-4d3d-8480-a4e40bd0bbce');\n",
              "          const dataTable =\n",
              "            await google.colab.kernel.invokeFunction('convertToInteractive',\n",
              "                                                     [key], {});\n",
              "          if (!dataTable) return;\n",
              "\n",
              "          const docLinkHtml = 'Like what you see? Visit the ' +\n",
              "            '<a target=\"_blank\" href=https://colab.research.google.com/notebooks/data_table.ipynb>data table notebook</a>'\n",
              "            + ' to learn more about interactive tables.';\n",
              "          element.innerHTML = '';\n",
              "          dataTable['output_type'] = 'display_data';\n",
              "          await google.colab.output.renderOutput(dataTable, element);\n",
              "          const docLink = document.createElement('div');\n",
              "          docLink.innerHTML = docLinkHtml;\n",
              "          element.appendChild(docLink);\n",
              "        }\n",
              "      </script>\n",
              "    </div>\n",
              "  </div>\n",
              "  "
            ]
          },
          "metadata": {},
          "execution_count": 12
        }
      ]
    },
    {
      "cell_type": "code",
      "source": [
        "# splitting the data into train and val set\n",
        "from sklearn.model_selection import train_test_split \n",
        "X = df_data_expand.drop('Link', axis =1)\n",
        "y = df_data_expand['Link']\n",
        "X_train, X_test, y_train, y_test = train_test_split(X, y , test_size = 0.2, random_state = 0) \n",
        "print(X_train.shape)\n",
        "print(X_test.shape)"
      ],
      "metadata": {
        "colab": {
          "base_uri": "https://localhost:8080/"
        },
        "id": "D3rrGh9frpfC",
        "outputId": "3d9aa579-c405-4710-b94f-128245b2ce71"
      },
      "execution_count": 13,
      "outputs": [
        {
          "output_type": "stream",
          "name": "stdout",
          "text": [
            "(1796, 6)\n",
            "(450, 6)\n"
          ]
        }
      ]
    },
    {
      "cell_type": "code",
      "source": [
        "# training\n",
        "from sklearn.ensemble import GradientBoostingClassifier  \n",
        "import xgboost\n",
        "#classifier = GradientBoostingClassifier()  \n",
        "#classifier = xgboost.XGBClassifier()\n",
        "from lightgbm import LGBMClassifier\n",
        "classifier = LGBMClassifier(\n",
        "            nthread=4,\n",
        "            n_estimators=10000,\n",
        "            learning_rate=0.02,\n",
        "            num_leaves=34,\n",
        "            colsample_bytree=0.9497036,\n",
        "            subsample=0.8715623,\n",
        "            max_depth=8,\n",
        "            reg_alpha=0.041545473,\n",
        "            reg_lambda=0.0735294,\n",
        "            min_split_gain=0.0222415,\n",
        "            min_child_weight=39.3259775,\n",
        "            silent=-1,\n",
        "            verbose=-1 )\n",
        "\n",
        "\n",
        "#classifier.fit(X_train, y_train) \n",
        "classifier.fit(X_train, y_train )\n",
        "\n",
        "y_train_pred = classifier.predict(X_train)\n",
        "y_test_pred = classifier.predict(X_test) "
      ],
      "metadata": {
        "id": "91XZiPo3ruce"
      },
      "execution_count": 14,
      "outputs": []
    },
    {
      "cell_type": "code",
      "source": [
        "# confusion matrix\n",
        "from sklearn.metrics import classification_report, confusion_matrix\n",
        "print('Confusion Matrix on Train Data\\n',confusion_matrix(y_train, y_train_pred))\n",
        "print('Confusion Matrix on Test Data\\n',confusion_matrix(y_test, y_test_pred))\n"
      ],
      "metadata": {
        "colab": {
          "base_uri": "https://localhost:8080/"
        },
        "id": "Y9D0fRfAx0pd",
        "outputId": "590db31a-c7cc-4bd1-d900-3bd2102a336c"
      },
      "execution_count": 15,
      "outputs": [
        {
          "output_type": "stream",
          "name": "stdout",
          "text": [
            "Confusion Matrix on Train Data\n",
            " [[772 133]\n",
            " [127 764]]\n",
            "Confusion Matrix on Test Data\n",
            " [[160  58]\n",
            " [ 49 183]]\n"
          ]
        }
      ]
    },
    {
      "cell_type": "code",
      "source": [
        "# accuracy\n",
        "from sklearn.metrics import accuracy_score\n",
        "train_acc = accuracy_score(y_train,y_train_pred)\n",
        "test_acc = accuracy_score(y_test,y_test_pred)\n",
        "print(f'{train_acc=}')\n",
        "print(f'{test_acc=}')"
      ],
      "metadata": {
        "colab": {
          "base_uri": "https://localhost:8080/"
        },
        "id": "barUDKJKx4kx",
        "outputId": "73ff67d0-dccb-48b6-d6e1-01ce0753dfdc"
      },
      "execution_count": 16,
      "outputs": [
        {
          "output_type": "stream",
          "name": "stdout",
          "text": [
            "train_acc=0.8552338530066815\n",
            "test_acc=0.7622222222222222\n"
          ]
        }
      ]
    },
    {
      "cell_type": "code",
      "source": [
        "# precision\n",
        "from sklearn.metrics import precision_score\n",
        "train_prec = precision_score(y_train,y_train_pred)\n",
        "test_prec = precision_score(y_test,y_test_pred)\n",
        "print(f'{train_prec=}')\n",
        "print(f'{test_prec=}')\n"
      ],
      "metadata": {
        "colab": {
          "base_uri": "https://localhost:8080/"
        },
        "id": "1kDt2XZpx6rM",
        "outputId": "425f411d-77e0-4075-8a43-93494d26a844"
      },
      "execution_count": 17,
      "outputs": [
        {
          "output_type": "stream",
          "name": "stdout",
          "text": [
            "train_prec=0.8517279821627648\n",
            "test_prec=0.7593360995850622\n"
          ]
        }
      ]
    },
    {
      "cell_type": "code",
      "source": [
        "# AUROC \n",
        "from sklearn.metrics import roc_auc_score\n",
        "train_auc = roc_auc_score(y_train,y_train_pred)\n",
        "test_auc = roc_auc_score(y_test,y_test_pred)\n",
        "print(f'{train_auc=}')\n",
        "print(f'{test_auc=}')"
      ],
      "metadata": {
        "colab": {
          "base_uri": "https://localhost:8080/"
        },
        "id": "rX0mlgjlyAtX",
        "outputId": "dfe505fa-f4bd-43ce-a866-19a5dc513a62"
      },
      "execution_count": 18,
      "outputs": [
        {
          "output_type": "stream",
          "name": "stdout",
          "text": [
            "train_auc=0.85525109908167\n",
            "test_auc=0.7613690287883582\n"
          ]
        }
      ]
    },
    {
      "cell_type": "code",
      "source": [
        "# ROCcurve\n",
        "def plot_roc_curve(fpr, tpr):\n",
        "  \"\"\"\n",
        "  Plot ROC curve\n",
        "  \"\"\"\n",
        "  plt.plot([0, 1], [0, 1], 'k--')\n",
        "  plt.plot(fpr, tpr)\n",
        "  plt.xlabel('False Positive Rate')\n",
        "  plt.ylabel('True Positive Rate')\n",
        "  plt.title('ROC Curve')\n",
        "\n",
        "from sklearn.metrics import roc_curve\n",
        "train_fpr, train_tpr, thresholds = roc_curve(y_train, y_train_pred)\n",
        "test_fpr, test_tpr, thresholds = roc_curve(y_test, y_test_pred)\n",
        "\n",
        "plt.subplot(121)\n",
        "plot_roc_curve(train_fpr, train_tpr)\n",
        "plt.subplot(122)\n",
        "plot_roc_curve(test_fpr, test_tpr)\n",
        "plt.show()\n"
      ],
      "metadata": {
        "colab": {
          "base_uri": "https://localhost:8080/",
          "height": 295
        },
        "id": "29DKNtKtyC30",
        "outputId": "97631846-b265-4b53-9cb9-78fb35b2c1f0"
      },
      "execution_count": 19,
      "outputs": [
        {
          "output_type": "display_data",
          "data": {
            "text/plain": [
              "<Figure size 432x288 with 2 Axes>"
            ],
            "image/png": "[encoded data removed]"
          },
          "metadata": {
            "needs_background": "light"
          }
        }
      ]
    },
    {
      "cell_type": "code",
      "source": [
        "# the deleted edges\n",
        "print(edge_list)"
      ],
      "metadata": {
        "colab": {
          "base_uri": "https://localhost:8080/"
        },
        "id": "iFEPblsnyFV7",
        "outputId": "5c2dea4c-9456-4c50-ed7a-2db9b1f24205"
      },
      "execution_count": 20,
      "outputs": [
        {
          "output_type": "stream",
          "name": "stdout",
          "text": [
            "[[372, 460], [367, 412], [388, 421], [463, 483], [395, 452], [428, 463], [434, 496], [400, 475], [363, 432], [378, 487], [389, 459], [369, 378], [474, 489], [402, 422], [397, 418], [388, 475], [400, 417], [407, 455], [367, 403], [198, 364], [363, 461], [363, 373], [432, 439], [366, 483], [392, 492], [408, 456], [373, 388], [376, 390], [456, 465], [395, 412], [438, 488], [391, 417], [474, 475], [483, 493], [404, 444], [413, 465], [373, 390], [376, 394], [363, 412], [415, 495], [412, 452], [419, 486], [392, 428], [402, 495], [422, 474], [373, 439], [373, 423], [376, 458], [359, 403], [404, 487], [402, 463], [440, 449], [417, 444], [428, 436], [361, 481], [417, 479], [445, 463], [404, 415], [439, 471], [409, 431], [359, 474], [368, 494], [444, 473], [436, 488], [436, 496], [473, 479], [414, 483], [402, 465], [387, 395], [452, 489], [437, 453], [388, 465], [439, 475], [461, 471], [376, 442], [363, 482], [438, 444], [391, 465], [355, 452], [387, 400], [391, 400], [456, 493], [428, 473], [374, 391], [400, 444], [432, 465], [475, 489], [382, 410], [363, 366], [363, 374], [34, 173], [400, 421], [477, 485], [366, 496], [408, 487], [423, 444], [395, 479], [353, 460], [362, 412], [429, 455], [439, 456], [359, 361], [397, 449], [360, 460], [412, 461], [432, 451], [487, 492], [475, 492], [431, 434], [359, 470], [369, 477], [404, 421], [408, 493], [367, 416], [367, 422], [412, 493], [376, 397], [412, 428], [353, 370], [398, 431], [404, 409], [355, 396], [375, 494], [414, 431], [397, 422]]\n"
          ]
        }
      ]
    },
    {
      "cell_type": "code",
      "source": [
        "df_data_test = pd.DataFrame(data=edge_list, columns  = ['Source', 'Target'])\n",
        "df_data_test.head(6)"
      ],
      "metadata": {
        "colab": {
          "base_uri": "https://localhost:8080/",
          "height": 237
        },
        "id": "1r3l4rMRyJHn",
        "outputId": "97daec9c-091a-4271-e75e-1d6a9a7d7f71"
      },
      "execution_count": 21,
      "outputs": [
        {
          "output_type": "execute_result",
          "data": {
            "text/plain": [
              "   Source  Target\n",
              "0     372     460\n",
              "1     367     412\n",
              "2     388     421\n",
              "3     463     483\n",
              "4     395     452\n",
              "5     428     463"
            ],
            "text/html": [
              "\n",
              "  <div id=\"df-4c86179d-6e47-4de2-bc9a-a779db015e30\">\n",
              "    <div class=\"colab-df-container\">\n",
              "      <div>\n",
              "<style scoped>\n",
              "    .dataframe tbody tr th:only-of-type {\n",
              "        vertical-align: middle;\n",
              "    }\n",
              "\n",
              "    .dataframe tbody tr th {\n",
              "        vertical-align: top;\n",
              "    }\n",
              "\n",
              "    .dataframe thead th {\n",
              "        text-align: right;\n",
              "    }\n",
              "</style>\n",
              "<table border=\"1\" class=\"dataframe\">\n",
              "  <thead>\n",
              "    <tr style=\"text-align: right;\">\n",
              "      <th></th>\n",
              "      <th>Source</th>\n",
              "      <th>Target</th>\n",
              "    </tr>\n",
              "  </thead>\n",
              "  <tbody>\n",
              "    <tr>\n",
              "      <th>0</th>\n",
              "      <td>372</td>\n",
              "      <td>460</td>\n",
              "    </tr>\n",
              "    <tr>\n",
              "      <th>1</th>\n",
              "      <td>367</td>\n",
              "      <td>412</td>\n",
              "    </tr>\n",
              "    <tr>\n",
              "      <th>2</th>\n",
              "      <td>388</td>\n",
              "      <td>421</td>\n",
              "    </tr>\n",
              "    <tr>\n",
              "      <th>3</th>\n",
              "      <td>463</td>\n",
              "      <td>483</td>\n",
              "    </tr>\n",
              "    <tr>\n",
              "      <th>4</th>\n",
              "      <td>395</td>\n",
              "      <td>452</td>\n",
              "    </tr>\n",
              "    <tr>\n",
              "      <th>5</th>\n",
              "      <td>428</td>\n",
              "      <td>463</td>\n",
              "    </tr>\n",
              "  </tbody>\n",
              "</table>\n",
              "</div>\n",
              "      <button class=\"colab-df-convert\" onclick=\"convertToInteractive('df-4c86179d-6e47-4de2-bc9a-a779db015e30')\"\n",
              "              title=\"Convert this dataframe to an interactive table.\"\n",
              "              style=\"display:none;\">\n",
              "        \n",
              "  <svg xmlns=\"http://www.w3.org/2000/svg\" height=\"24px\"viewBox=\"0 0 24 24\"\n",
              "       width=\"24px\">\n",
              "    <path d=\"M0 0h24v24H0V0z\" fill=\"none\"/>\n",
              "    <path d=\"M18.56 5.44l.94 2.06.94-2.06 2.06-.94-2.06-.94-.94-2.06-.94 2.06-2.06.94zm-11 1L8.5 8.5l.94-2.06 2.06-.94-2.06-.94L8.5 2.5l-.94 2.06-2.06.94zm10 10l.94 2.06.94-2.06 2.06-.94-2.06-.94-.94-2.06-.94 2.06-2.06.94z\"/><path d=\"M17.41 7.96l-1.37-1.37c-.4-.4-.92-.59-1.43-.59-.52 0-1.04.2-1.43.59L10.3 9.45l-7.72 7.72c-.78.78-.78 2.05 0 2.83L4 21.41c.39.39.9.59 1.41.59.51 0 1.02-.2 1.41-.59l7.78-7.78 2.81-2.81c.8-.78.8-2.07 0-2.86zM5.41 20L4 18.59l7.72-7.72 1.47 1.35L5.41 20z\"/>\n",
              "  </svg>\n",
              "      </button>\n",
              "      \n",
              "  <style>\n",
              "    .colab-df-container {\n",
              "      display:flex;\n",
              "      flex-wrap:wrap;\n",
              "      gap: 12px;\n",
              "    }\n",
              "\n",
              "    .colab-df-convert {\n",
              "      background-color: #E8F0FE;\n",
              "      border: none;\n",
              "      border-radius: 50%;\n",
              "      cursor: pointer;\n",
              "      display: none;\n",
              "      fill: #1967D2;\n",
              "      height: 32px;\n",
              "      padding: 0 0 0 0;\n",
              "      width: 32px;\n",
              "    }\n",
              "\n",
              "    .colab-df-convert:hover {\n",
              "      background-color: #E2EBFA;\n",
              "      box-shadow: 0px 1px 2px rgba(60, 64, 67, 0.3), 0px 1px 3px 1px rgba(60, 64, 67, 0.15);\n",
              "      fill: #174EA6;\n",
              "    }\n",
              "\n",
              "    [theme=dark] .colab-df-convert {\n",
              "      background-color: #3B4455;\n",
              "      fill: #D2E3FC;\n",
              "    }\n",
              "\n",
              "    [theme=dark] .colab-df-convert:hover {\n",
              "      background-color: #434B5C;\n",
              "      box-shadow: 0px 1px 3px 1px rgba(0, 0, 0, 0.15);\n",
              "      filter: drop-shadow(0px 1px 2px rgba(0, 0, 0, 0.3));\n",
              "      fill: #FFFFFF;\n",
              "    }\n",
              "  </style>\n",
              "\n",
              "      <script>\n",
              "        const buttonEl =\n",
              "          document.querySelector('#df-4c86179d-6e47-4de2-bc9a-a779db015e30 button.colab-df-convert');\n",
              "        buttonEl.style.display =\n",
              "          google.colab.kernel.accessAllowed ? 'block' : 'none';\n",
              "\n",
              "        async function convertToInteractive(key) {\n",
              "          const element = document.querySelector('#df-4c86179d-6e47-4de2-bc9a-a779db015e30');\n",
              "          const dataTable =\n",
              "            await google.colab.kernel.invokeFunction('convertToInteractive',\n",
              "                                                     [key], {});\n",
              "          if (!dataTable) return;\n",
              "\n",
              "          const docLinkHtml = 'Like what you see? Visit the ' +\n",
              "            '<a target=\"_blank\" href=https://colab.research.google.com/notebooks/data_table.ipynb>data table notebook</a>'\n",
              "            + ' to learn more about interactive tables.';\n",
              "          element.innerHTML = '';\n",
              "          dataTable['output_type'] = 'display_data';\n",
              "          await google.colab.output.renderOutput(dataTable, element);\n",
              "          const docLink = document.createElement('div');\n",
              "          docLink.innerHTML = docLinkHtml;\n",
              "          element.appendChild(docLink);\n",
              "        }\n",
              "      </script>\n",
              "    </div>\n",
              "  </div>\n",
              "  "
            ]
          },
          "metadata": {},
          "execution_count": 21
        }
      ]
    },
    {
      "cell_type": "code",
      "source": [
        "df_data_test_expand = feature_extraction(df_data_test, FB_G_del, add_link = False)\n",
        "df_data_test_expand.head(6)"
      ],
      "metadata": {
        "colab": {
          "base_uri": "https://localhost:8080/",
          "height": 237
        },
        "id": "Yu5O8U4hyK3D",
        "outputId": "46a6ec3e-389a-41b2-88c8-3c5e4aab9ebe"
      },
      "execution_count": 23,
      "outputs": [
        {
          "output_type": "execute_result",
          "data": {
            "text/plain": [
              "   SrcPageRank  SrcDegCnt  SrcBetCnt  TgtPageRank  TgtDegCnt  TgtBetCnt\n",
              "0     0.003705   0.040816   0.012031     0.013381   0.251701   0.040157\n",
              "1     0.006982   0.115646   0.028654     0.015743   0.312925   0.069293\n",
              "2     0.007254   0.136054   0.028780     0.005927   0.095238   0.040328\n",
              "3     0.009826   0.163265   0.028900     0.013543   0.272109   0.045685\n",
              "4     0.011692   0.231293   0.037674     0.007807   0.136054   0.030237\n",
              "5     0.014269   0.272109   0.045941     0.009826   0.163265   0.028900"
            ],
            "text/html": [
              "\n",
              "  <div id=\"df-9a0f1bd9-08aa-4a4f-b86b-8465142d99ef\">\n",
              "    <div class=\"colab-df-container\">\n",
              "      <div>\n",
              "<style scoped>\n",
              "    .dataframe tbody tr th:only-of-type {\n",
              "        vertical-align: middle;\n",
              "    }\n",
              "\n",
              "    .dataframe tbody tr th {\n",
              "        vertical-align: top;\n",
              "    }\n",
              "\n",
              "    .dataframe thead th {\n",
              "        text-align: right;\n",
              "    }\n",
              "</style>\n",
              "<table border=\"1\" class=\"dataframe\">\n",
              "  <thead>\n",
              "    <tr style=\"text-align: right;\">\n",
              "      <th></th>\n",
              "      <th>SrcPageRank</th>\n",
              "      <th>SrcDegCnt</th>\n",
              "      <th>SrcBetCnt</th>\n",
              "      <th>TgtPageRank</th>\n",
              "      <th>TgtDegCnt</th>\n",
              "      <th>TgtBetCnt</th>\n",
              "    </tr>\n",
              "  </thead>\n",
              "  <tbody>\n",
              "    <tr>\n",
              "      <th>0</th>\n",
              "      <td>0.003705</td>\n",
              "      <td>0.040816</td>\n",
              "      <td>0.012031</td>\n",
              "      <td>0.013381</td>\n",
              "      <td>0.251701</td>\n",
              "      <td>0.040157</td>\n",
              "    </tr>\n",
              "    <tr>\n",
              "      <th>1</th>\n",
              "      <td>0.006982</td>\n",
              "      <td>0.115646</td>\n",
              "      <td>0.028654</td>\n",
              "      <td>0.015743</td>\n",
              "      <td>0.312925</td>\n",
              "      <td>0.069293</td>\n",
              "    </tr>\n",
              "    <tr>\n",
              "      <th>2</th>\n",
              "      <td>0.007254</td>\n",
              "      <td>0.136054</td>\n",
              "      <td>0.028780</td>\n",
              "      <td>0.005927</td>\n",
              "      <td>0.095238</td>\n",
              "      <td>0.040328</td>\n",
              "    </tr>\n",
              "    <tr>\n",
              "      <th>3</th>\n",
              "      <td>0.009826</td>\n",
              "      <td>0.163265</td>\n",
              "      <td>0.028900</td>\n",
              "      <td>0.013543</td>\n",
              "      <td>0.272109</td>\n",
              "      <td>0.045685</td>\n",
              "    </tr>\n",
              "    <tr>\n",
              "      <th>4</th>\n",
              "      <td>0.011692</td>\n",
              "      <td>0.231293</td>\n",
              "      <td>0.037674</td>\n",
              "      <td>0.007807</td>\n",
              "      <td>0.136054</td>\n",
              "      <td>0.030237</td>\n",
              "    </tr>\n",
              "    <tr>\n",
              "      <th>5</th>\n",
              "      <td>0.014269</td>\n",
              "      <td>0.272109</td>\n",
              "      <td>0.045941</td>\n",
              "      <td>0.009826</td>\n",
              "      <td>0.163265</td>\n",
              "      <td>0.028900</td>\n",
              "    </tr>\n",
              "  </tbody>\n",
              "</table>\n",
              "</div>\n",
              "      <button class=\"colab-df-convert\" onclick=\"convertToInteractive('df-9a0f1bd9-08aa-4a4f-b86b-8465142d99ef')\"\n",
              "              title=\"Convert this dataframe to an interactive table.\"\n",
              "              style=\"display:none;\">\n",
              "        \n",
              "  <svg xmlns=\"http://www.w3.org/2000/svg\" height=\"24px\"viewBox=\"0 0 24 24\"\n",
              "       width=\"24px\">\n",
              "    <path d=\"M0 0h24v24H0V0z\" fill=\"none\"/>\n",
              "    <path d=\"M18.56 5.44l.94 2.06.94-2.06 2.06-.94-2.06-.94-.94-2.06-.94 2.06-2.06.94zm-11 1L8.5 8.5l.94-2.06 2.06-.94-2.06-.94L8.5 2.5l-.94 2.06-2.06.94zm10 10l.94 2.06.94-2.06 2.06-.94-2.06-.94-.94-2.06-.94 2.06-2.06.94z\"/><path d=\"M17.41 7.96l-1.37-1.37c-.4-.4-.92-.59-1.43-.59-.52 0-1.04.2-1.43.59L10.3 9.45l-7.72 7.72c-.78.78-.78 2.05 0 2.83L4 21.41c.39.39.9.59 1.41.59.51 0 1.02-.2 1.41-.59l7.78-7.78 2.81-2.81c.8-.78.8-2.07 0-2.86zM5.41 20L4 18.59l7.72-7.72 1.47 1.35L5.41 20z\"/>\n",
              "  </svg>\n",
              "      </button>\n",
              "      \n",
              "  <style>\n",
              "    .colab-df-container {\n",
              "      display:flex;\n",
              "      flex-wrap:wrap;\n",
              "      gap: 12px;\n",
              "    }\n",
              "\n",
              "    .colab-df-convert {\n",
              "      background-color: #E8F0FE;\n",
              "      border: none;\n",
              "      border-radius: 50%;\n",
              "      cursor: pointer;\n",
              "      display: none;\n",
              "      fill: #1967D2;\n",
              "      height: 32px;\n",
              "      padding: 0 0 0 0;\n",
              "      width: 32px;\n",
              "    }\n",
              "\n",
              "    .colab-df-convert:hover {\n",
              "      background-color: #E2EBFA;\n",
              "      box-shadow: 0px 1px 2px rgba(60, 64, 67, 0.3), 0px 1px 3px 1px rgba(60, 64, 67, 0.15);\n",
              "      fill: #174EA6;\n",
              "    }\n",
              "\n",
              "    [theme=dark] .colab-df-convert {\n",
              "      background-color: #3B4455;\n",
              "      fill: #D2E3FC;\n",
              "    }\n",
              "\n",
              "    [theme=dark] .colab-df-convert:hover {\n",
              "      background-color: #434B5C;\n",
              "      box-shadow: 0px 1px 3px 1px rgba(0, 0, 0, 0.15);\n",
              "      filter: drop-shadow(0px 1px 2px rgba(0, 0, 0, 0.3));\n",
              "      fill: #FFFFFF;\n",
              "    }\n",
              "  </style>\n",
              "\n",
              "      <script>\n",
              "        const buttonEl =\n",
              "          document.querySelector('#df-9a0f1bd9-08aa-4a4f-b86b-8465142d99ef button.colab-df-convert');\n",
              "        buttonEl.style.display =\n",
              "          google.colab.kernel.accessAllowed ? 'block' : 'none';\n",
              "\n",
              "        async function convertToInteractive(key) {\n",
              "          const element = document.querySelector('#df-9a0f1bd9-08aa-4a4f-b86b-8465142d99ef');\n",
              "          const dataTable =\n",
              "            await google.colab.kernel.invokeFunction('convertToInteractive',\n",
              "                                                     [key], {});\n",
              "          if (!dataTable) return;\n",
              "\n",
              "          const docLinkHtml = 'Like what you see? Visit the ' +\n",
              "            '<a target=\"_blank\" href=https://colab.research.google.com/notebooks/data_table.ipynb>data table notebook</a>'\n",
              "            + ' to learn more about interactive tables.';\n",
              "          element.innerHTML = '';\n",
              "          dataTable['output_type'] = 'display_data';\n",
              "          await google.colab.output.renderOutput(dataTable, element);\n",
              "          const docLink = document.createElement('div');\n",
              "          docLink.innerHTML = docLinkHtml;\n",
              "          element.appendChild(docLink);\n",
              "        }\n",
              "      </script>\n",
              "    </div>\n",
              "  </div>\n",
              "  "
            ]
          },
          "metadata": {},
          "execution_count": 23
        }
      ]
    },
    {
      "cell_type": "code",
      "source": [
        "y_pred = classifier.predict(df_data_test_expand)\n",
        "y_true = np.ones(len(y_pred), dtype=int)"
      ],
      "metadata": {
        "id": "6Kps0v6fyM0i"
      },
      "execution_count": 24,
      "outputs": []
    },
    {
      "cell_type": "code",
      "source": [
        "# confusion matrix\n",
        "from sklearn.metrics import classification_report, confusion_matrix\n",
        "print('Confusion Matrix \\n',confusion_matrix(y_true, y_pred))"
      ],
      "metadata": {
        "colab": {
          "base_uri": "https://localhost:8080/"
        },
        "id": "wEb5LrtLyPAI",
        "outputId": "d5dbb8bc-c429-4179-be57-c869b5dc8591"
      },
      "execution_count": 25,
      "outputs": [
        {
          "output_type": "stream",
          "name": "stdout",
          "text": [
            "Confusion Matrix \n",
            " [[ 0  0]\n",
            " [27 98]]\n"
          ]
        }
      ]
    },
    {
      "cell_type": "code",
      "source": [
        "# accuracy\n",
        "from sklearn.metrics import accuracy_score\n",
        "acc = accuracy_score(y_true, y_pred)\n",
        "print(f'{acc=}')"
      ],
      "metadata": {
        "colab": {
          "base_uri": "https://localhost:8080/"
        },
        "id": "CnV3-geCyQ1E",
        "outputId": "a7bd3132-e952-4d9c-f091-8c704415166a"
      },
      "execution_count": 26,
      "outputs": [
        {
          "output_type": "stream",
          "name": "stdout",
          "text": [
            "acc=0.784\n"
          ]
        }
      ]
    },
    {
      "cell_type": "code",
      "source": [
        "# precision\n",
        "from sklearn.metrics import precision_score\n",
        "prec = precision_score(y_true, y_pred)\n",
        "print(f'{prec=}')"
      ],
      "metadata": {
        "colab": {
          "base_uri": "https://localhost:8080/"
        },
        "id": "emRIWZ2NyShn",
        "outputId": "28f14ea9-48d4-45c4-9647-bf55df31b016"
      },
      "execution_count": 27,
      "outputs": [
        {
          "output_type": "stream",
          "name": "stdout",
          "text": [
            "prec=1.0\n"
          ]
        }
      ]
    },
    {
      "cell_type": "code",
      "source": [
        "# ROCcurve\n",
        "def plot_roc_curve(fpr, tpr):\n",
        "  \"\"\"\n",
        "  Plot ROC curve\n",
        "  \"\"\"\n",
        "  plt.plot([0, 1], [0, 1], 'k--')\n",
        "  plt.plot(fpr, tpr)\n",
        "  plt.xlabel('False Positive Rate')\n",
        "  plt.ylabel('True Positive Rate')\n",
        "  plt.title('ROC Curve')\n",
        "\n",
        "from sklearn.metrics import roc_curve\n",
        "train_fpr, train_tpr, thresholds = roc_curve(y_true, y_pred)\n",
        "\n",
        "plot_roc_curve(train_fpr, train_tpr)\n",
        "plt.show()\n",
        "\n",
        "# This metric does not give us much information cause only one class present in y_true."
      ],
      "metadata": {
        "colab": {
          "base_uri": "https://localhost:8080/",
          "height": 350
        },
        "id": "vbHPuzkEyXZI",
        "outputId": "741bd217-1eff-4fe9-c18e-05ec6060f774"
      },
      "execution_count": 29,
      "outputs": [
        {
          "output_type": "stream",
          "name": "stderr",
          "text": [
            "/usr/local/lib/python3.8/dist-packages/sklearn/metrics/_ranking.py:990: UndefinedMetricWarning: No negative samples in y_true, false positive value should be meaningless\n",
            "  warnings.warn(\n"
          ]
        },
        {
          "output_type": "display_data",
          "data": {
            "text/plain": [
              "<Figure size 432x288 with 1 Axes>"
            ],
            "image/png": "[encoded data removed]"
          },
          "metadata": {
            "needs_background": "light"
          }
        }
      ]
    }
  ]
}