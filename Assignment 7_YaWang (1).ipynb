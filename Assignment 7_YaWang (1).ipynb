{
  "nbformat": 4,
  "nbformat_minor": 0,
  "metadata": {
    "colab": {
      "provenance": []
    },
    "kernelspec": {
      "name": "python3",
      "display_name": "Python 3"
    },
    "language_info": {
      "name": "python"
    }
  },
  "cells": [
    {
      "cell_type": "markdown",
      "source": [
        "# **Assigment 7**\n",
        "\n",
        "Wang Ya\n",
        "2022/11/15"
      ],
      "metadata": {
        "id": "xA-b1YAcy0-A"
      }
    },
    {
      "cell_type": "markdown",
      "source": [
        "(a) What characterizes the original CODA model?"
      ],
      "metadata": {
        "id": "NJB39DcTzGpI"
      }
    },
    {
      "cell_type": "markdown",
      "source": [
        "CODA is a model where agents show discrete behavior regarding their actions, but have continuous opinions that are updated by interacting with other agents.  \n",
        "The CODA model consists of three main characters:  \n",
        "\n",
        "1.   CODA models opinions as unobservable and continuous variables bounded between 0 and 1\n",
        "2.   individuals have binary actions that are observable;\n",
        "3.   individuals update opinions by incorporating peer behavior using a Bayesian update rule"
      ],
      "metadata": {
        "id": "zx2pqqmzzfR9"
      }
    },
    {
      "cell_type": "markdown",
      "source": [
        "(b) Why is CODA a hybrid model?"
      ],
      "metadata": {
        "id": "E6myHtuqzUtM"
      }
    },
    {
      "cell_type": "markdown",
      "source": [
        "The CODA updating rule is proposed as an alternative to the usual updating rules, where opinions just flip, with no memory. By differentiating between opinion and\n",
        "choice, the rule allows to model easily the opinions of agents as continuous functions even when the observed actions are binary. So it is a hybrid model of the cotinous model (eg. opinions) and the discrete model (eg. binary action)."
      ],
      "metadata": {
        "id": "oQJp9UgD4jiN"
      }
    },
    {
      "cell_type": "markdown",
      "source": [
        "(c) How to update opinions?"
      ],
      "metadata": {
        "id": "DTpPG2g9zYqj"
      }
    },
    {
      "cell_type": "markdown",
      "source": [
        "For CODA model, individuals are able to update their opinions at every time step by observing their peers’ behavior. A simple updating rule for CODA can be obtained by assuming that the agents change their opinions by using a very simple Bayesian description of how likely their neighbors are to be correct.\n",
        "likelihoods are used to implement the Bayesian update. Likelihoods are probability assessments made by individuals before any interaction takes place."
      ],
      "metadata": {
        "id": "uQQvPMDc32qb"
      }
    },
    {
      "cell_type": "markdown",
      "source": [
        "(d) What are the recent extensions of CODA?"
      ],
      "metadata": {
        "id": "SvgF0v4nzeVY"
      }
    },
    {
      "cell_type": "markdown",
      "source": [
        "The dynamics for opinion change of CODA can easily be\n",
        "implemented using the different models for interaction available. For example, \n",
        "1.   Voter Model \n",
        "\n",
        "> extension:For the CODA model, the neighbors still influence the agent, but by changing its internal probability associated with the action by the amount ν. That way, if the agent and the neighbor disagree on their actions, the agent opinion will become less extreme and the agent might change its mind.\n",
        "\n",
        "\n",
        "2.   Sznajd Model\n",
        "\n",
        "> extension: The CODA model is applied to the Sznajd interaction rules. Under those rules, the update is applied to more agents at each one time.The fact that the updating rule applies to a larger number of agents at each iteration allows for a much faster convergence and appearance of the domains.\n",
        "\n",
        "\n",
        "\n",
        "3.   opinions update model extension\n",
        "\n",
        "> extension of the original CODA update method to incorporate non-symmetrical likelihoods\n",
        "\n",
        "\n",
        "\n",
        "\n",
        "\n",
        "\n",
        "\n"
      ],
      "metadata": {
        "id": "Eh6Kpgik5wNt"
      }
    }
  ]
}