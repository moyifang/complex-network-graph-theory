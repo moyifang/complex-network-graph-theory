{
  "cells": [
    {
      "cell_type": "markdown",
      "metadata": {
        "id": "Bp3VbMcXIYxn"
      },
      "source": [
        "**Wang Ya, dataset: group 3**\n",
        "\n"
      ]
    },
    {
      "cell_type": "markdown",
      "metadata": {
        "id": "Pzrm1Kgeiesd"
      },
      "source": [
        "# *assigment 1 *\n",
        "\n",
        "\n",
        "---\n",
        "\n"
      ]
    },
    {
      "cell_type": "markdown",
      "metadata": {
        "id": "5Gya-mwxqgp7"
      },
      "source": [
        "## Data process"
      ]
    },
    {
      "cell_type": "markdown",
      "metadata": {
        "id": "9USrI9IXqcUy"
      },
      "source": [
        "Load data and print head"
      ]
    },
    {
      "cell_type": "code",
      "execution_count": null,
      "metadata": {
        "colab": {
          "base_uri": "https://localhost:8080/",
          "height": 241
        },
        "id": "rmgdM2UamDGC",
        "outputId": "562ad2eb-0239-4a3c-fcbf-51e4cb21ad08"
      },
      "outputs": [
        {
          "name": "stdout",
          "output_type": "stream",
          "text": [
            "Looking in indexes: https://pypi.org/simple, https://us-python.pkg.dev/colab-wheels/public/simple/\n",
            "Requirement already satisfied: networkx in /usr/local/lib/python3.7/dist-packages (2.6.3)\n"
          ]
        },
        {
          "data": {
            "text/html": [
              "\n",
              "  <div id=\"df-f778d2bb-6361-43f4-bdb9-51a4bf0d12eb\">\n",
              "    <div class=\"colab-df-container\">\n",
              "      <div>\n",
              "<style scoped>\n",
              "    .dataframe tbody tr th:only-of-type {\n",
              "        vertical-align: middle;\n",
              "    }\n",
              "\n",
              "    .dataframe tbody tr th {\n",
              "        vertical-align: top;\n",
              "    }\n",
              "\n",
              "    .dataframe thead th {\n",
              "        text-align: right;\n",
              "    }\n",
              "</style>\n",
              "<table border=\"1\" class=\"dataframe\">\n",
              "  <thead>\n",
              "    <tr style=\"text-align: right;\">\n",
              "      <th></th>\n",
              "      <th>Node1</th>\n",
              "      <th>Node2</th>\n",
              "    </tr>\n",
              "  </thead>\n",
              "  <tbody>\n",
              "    <tr>\n",
              "      <th>0</th>\n",
              "      <td>79312312</td>\n",
              "      <td>20079982</td>\n",
              "    </tr>\n",
              "    <tr>\n",
              "      <th>1</th>\n",
              "      <td>191477840</td>\n",
              "      <td>18953259</td>\n",
              "    </tr>\n",
              "    <tr>\n",
              "      <th>2</th>\n",
              "      <td>60923426</td>\n",
              "      <td>19982092</td>\n",
              "    </tr>\n",
              "    <tr>\n",
              "      <th>3</th>\n",
              "      <td>357032926</td>\n",
              "      <td>169443767</td>\n",
              "    </tr>\n",
              "    <tr>\n",
              "      <th>4</th>\n",
              "      <td>18953259</td>\n",
              "      <td>44874400</td>\n",
              "    </tr>\n",
              "  </tbody>\n",
              "</table>\n",
              "</div>\n",
              "      <button class=\"colab-df-convert\" onclick=\"convertToInteractive('df-f778d2bb-6361-43f4-bdb9-51a4bf0d12eb')\"\n",
              "              title=\"Convert this dataframe to an interactive table.\"\n",
              "              style=\"display:none;\">\n",
              "        \n",
              "  <svg xmlns=\"http://www.w3.org/2000/svg\" height=\"24px\"viewBox=\"0 0 24 24\"\n",
              "       width=\"24px\">\n",
              "    <path d=\"M0 0h24v24H0V0z\" fill=\"none\"/>\n",
              "    <path d=\"M18.56 5.44l.94 2.06.94-2.06 2.06-.94-2.06-.94-.94-2.06-.94 2.06-2.06.94zm-11 1L8.5 8.5l.94-2.06 2.06-.94-2.06-.94L8.5 2.5l-.94 2.06-2.06.94zm10 10l.94 2.06.94-2.06 2.06-.94-2.06-.94-.94-2.06-.94 2.06-2.06.94z\"/><path d=\"M17.41 7.96l-1.37-1.37c-.4-.4-.92-.59-1.43-.59-.52 0-1.04.2-1.43.59L10.3 9.45l-7.72 7.72c-.78.78-.78 2.05 0 2.83L4 21.41c.39.39.9.59 1.41.59.51 0 1.02-.2 1.41-.59l7.78-7.78 2.81-2.81c.8-.78.8-2.07 0-2.86zM5.41 20L4 18.59l7.72-7.72 1.47 1.35L5.41 20z\"/>\n",
              "  </svg>\n",
              "      </button>\n",
              "      \n",
              "  <style>\n",
              "    .colab-df-container {\n",
              "      display:flex;\n",
              "      flex-wrap:wrap;\n",
              "      gap: 12px;\n",
              "    }\n",
              "\n",
              "    .colab-df-convert {\n",
              "      background-color: #E8F0FE;\n",
              "      border: none;\n",
              "      border-radius: 50%;\n",
              "      cursor: pointer;\n",
              "      display: none;\n",
              "      fill: #1967D2;\n",
              "      height: 32px;\n",
              "      padding: 0 0 0 0;\n",
              "      width: 32px;\n",
              "    }\n",
              "\n",
              "    .colab-df-convert:hover {\n",
              "      background-color: #E2EBFA;\n",
              "      box-shadow: 0px 1px 2px rgba(60, 64, 67, 0.3), 0px 1px 3px 1px rgba(60, 64, 67, 0.15);\n",
              "      fill: #174EA6;\n",
              "    }\n",
              "\n",
              "    [theme=dark] .colab-df-convert {\n",
              "      background-color: #3B4455;\n",
              "      fill: #D2E3FC;\n",
              "    }\n",
              "\n",
              "    [theme=dark] .colab-df-convert:hover {\n",
              "      background-color: #434B5C;\n",
              "      box-shadow: 0px 1px 3px 1px rgba(0, 0, 0, 0.15);\n",
              "      filter: drop-shadow(0px 1px 2px rgba(0, 0, 0, 0.3));\n",
              "      fill: #FFFFFF;\n",
              "    }\n",
              "  </style>\n",
              "\n",
              "      <script>\n",
              "        const buttonEl =\n",
              "          document.querySelector('#df-f778d2bb-6361-43f4-bdb9-51a4bf0d12eb button.colab-df-convert');\n",
              "        buttonEl.style.display =\n",
              "          google.colab.kernel.accessAllowed ? 'block' : 'none';\n",
              "\n",
              "        async function convertToInteractive(key) {\n",
              "          const element = document.querySelector('#df-f778d2bb-6361-43f4-bdb9-51a4bf0d12eb');\n",
              "          const dataTable =\n",
              "            await google.colab.kernel.invokeFunction('convertToInteractive',\n",
              "                                                     [key], {});\n",
              "          if (!dataTable) return;\n",
              "\n",
              "          const docLinkHtml = 'Like what you see? Visit the ' +\n",
              "            '<a target=\"_blank\" href=https://colab.research.google.com/notebooks/data_table.ipynb>data table notebook</a>'\n",
              "            + ' to learn more about interactive tables.';\n",
              "          element.innerHTML = '';\n",
              "          dataTable['output_type'] = 'display_data';\n",
              "          await google.colab.output.renderOutput(dataTable, element);\n",
              "          const docLink = document.createElement('div');\n",
              "          docLink.innerHTML = docLinkHtml;\n",
              "          element.appendChild(docLink);\n",
              "        }\n",
              "      </script>\n",
              "    </div>\n",
              "  </div>\n",
              "  "
            ],
            "text/plain": [
              "       Node1      Node2\n",
              "0   79312312   20079982\n",
              "1  191477840   18953259\n",
              "2   60923426   19982092\n",
              "3  357032926  169443767\n",
              "4   18953259   44874400"
            ]
          },
          "execution_count": 1,
          "metadata": {},
          "output_type": "execute_result"
        }
      ],
      "source": [
        "!pip install networkx\n",
        "import pandas as pd\n",
        "import numpy as np\n",
        "import math\n",
        "import networkx as nx\n",
        "import matplotlib.pyplot as plt\n",
        "from matplotlib.cm import ScalarMappable\n",
        "te_edges = 'https://raw.githubusercontent.com/wang422003/Complex-Networks_exercise/main/Datasets/Group3/Twitter-Ego/789071.edges'\n",
        "TE_edges =pd.read_csv(te_edges,delimiter=\" \",names = [\"Node1\", \"Node2\"], encoding = \"ISO-8859-1\")\n",
        "TE_edges.head()\n"
      ]
    },
    {
      "cell_type": "code",
      "execution_count": null,
      "metadata": {
        "colab": {
          "base_uri": "https://localhost:8080/",
          "height": 235
        },
        "id": "LTYSXfuYquW8",
        "outputId": "a41f68e3-b96f-4dd0-9278-7b28551c1d37"
      },
      "outputs": [
        {
          "data": {
            "text/html": [
              "\n",
              "  <div id=\"df-a88f2fb0-f6ac-4101-80ee-52383374ab68\">\n",
              "    <div class=\"colab-df-container\">\n",
              "      <div>\n",
              "<style scoped>\n",
              "    .dataframe tbody tr th:only-of-type {\n",
              "        vertical-align: middle;\n",
              "    }\n",
              "\n",
              "    .dataframe tbody tr th {\n",
              "        vertical-align: top;\n",
              "    }\n",
              "\n",
              "    .dataframe thead th {\n",
              "        text-align: right;\n",
              "    }\n",
              "</style>\n",
              "<table border=\"1\" class=\"dataframe\">\n",
              "  <thead>\n",
              "    <tr style=\"text-align: right;\">\n",
              "      <th></th>\n",
              "      <th>0</th>\n",
              "      <th>1</th>\n",
              "      <th>2</th>\n",
              "      <th>3</th>\n",
              "      <th>4</th>\n",
              "      <th>5</th>\n",
              "      <th>6</th>\n",
              "      <th>7</th>\n",
              "      <th>8</th>\n",
              "      <th>9</th>\n",
              "      <th>...</th>\n",
              "      <th>561</th>\n",
              "      <th>562</th>\n",
              "      <th>563</th>\n",
              "      <th>564</th>\n",
              "      <th>565</th>\n",
              "      <th>566</th>\n",
              "      <th>567</th>\n",
              "      <th>568</th>\n",
              "      <th>569</th>\n",
              "      <th>570</th>\n",
              "    </tr>\n",
              "  </thead>\n",
              "  <tbody>\n",
              "    <tr>\n",
              "      <th>0</th>\n",
              "      <td>194677810</td>\n",
              "      <td>0</td>\n",
              "      <td>0</td>\n",
              "      <td>0</td>\n",
              "      <td>0</td>\n",
              "      <td>0</td>\n",
              "      <td>0</td>\n",
              "      <td>0</td>\n",
              "      <td>0</td>\n",
              "      <td>0</td>\n",
              "      <td>...</td>\n",
              "      <td>0</td>\n",
              "      <td>0</td>\n",
              "      <td>0</td>\n",
              "      <td>0</td>\n",
              "      <td>0</td>\n",
              "      <td>0</td>\n",
              "      <td>0</td>\n",
              "      <td>0</td>\n",
              "      <td>0</td>\n",
              "      <td>0</td>\n",
              "    </tr>\n",
              "    <tr>\n",
              "      <th>1</th>\n",
              "      <td>48460288</td>\n",
              "      <td>0</td>\n",
              "      <td>0</td>\n",
              "      <td>0</td>\n",
              "      <td>0</td>\n",
              "      <td>0</td>\n",
              "      <td>0</td>\n",
              "      <td>0</td>\n",
              "      <td>0</td>\n",
              "      <td>0</td>\n",
              "      <td>...</td>\n",
              "      <td>0</td>\n",
              "      <td>0</td>\n",
              "      <td>0</td>\n",
              "      <td>1</td>\n",
              "      <td>0</td>\n",
              "      <td>0</td>\n",
              "      <td>0</td>\n",
              "      <td>0</td>\n",
              "      <td>0</td>\n",
              "      <td>0</td>\n",
              "    </tr>\n",
              "    <tr>\n",
              "      <th>2</th>\n",
              "      <td>19586880</td>\n",
              "      <td>0</td>\n",
              "      <td>0</td>\n",
              "      <td>0</td>\n",
              "      <td>0</td>\n",
              "      <td>0</td>\n",
              "      <td>0</td>\n",
              "      <td>0</td>\n",
              "      <td>0</td>\n",
              "      <td>0</td>\n",
              "      <td>...</td>\n",
              "      <td>0</td>\n",
              "      <td>0</td>\n",
              "      <td>0</td>\n",
              "      <td>0</td>\n",
              "      <td>0</td>\n",
              "      <td>0</td>\n",
              "      <td>0</td>\n",
              "      <td>0</td>\n",
              "      <td>0</td>\n",
              "      <td>0</td>\n",
              "    </tr>\n",
              "    <tr>\n",
              "      <th>3</th>\n",
              "      <td>357032926</td>\n",
              "      <td>0</td>\n",
              "      <td>0</td>\n",
              "      <td>0</td>\n",
              "      <td>0</td>\n",
              "      <td>0</td>\n",
              "      <td>0</td>\n",
              "      <td>0</td>\n",
              "      <td>0</td>\n",
              "      <td>0</td>\n",
              "      <td>...</td>\n",
              "      <td>0</td>\n",
              "      <td>0</td>\n",
              "      <td>0</td>\n",
              "      <td>0</td>\n",
              "      <td>0</td>\n",
              "      <td>0</td>\n",
              "      <td>0</td>\n",
              "      <td>0</td>\n",
              "      <td>0</td>\n",
              "      <td>0</td>\n",
              "    </tr>\n",
              "    <tr>\n",
              "      <th>4</th>\n",
              "      <td>17836026</td>\n",
              "      <td>0</td>\n",
              "      <td>0</td>\n",
              "      <td>1</td>\n",
              "      <td>0</td>\n",
              "      <td>0</td>\n",
              "      <td>0</td>\n",
              "      <td>0</td>\n",
              "      <td>0</td>\n",
              "      <td>0</td>\n",
              "      <td>...</td>\n",
              "      <td>0</td>\n",
              "      <td>0</td>\n",
              "      <td>0</td>\n",
              "      <td>0</td>\n",
              "      <td>0</td>\n",
              "      <td>0</td>\n",
              "      <td>0</td>\n",
              "      <td>0</td>\n",
              "      <td>0</td>\n",
              "      <td>0</td>\n",
              "    </tr>\n",
              "  </tbody>\n",
              "</table>\n",
              "<p>5 rows × 571 columns</p>\n",
              "</div>\n",
              "      <button class=\"colab-df-convert\" onclick=\"convertToInteractive('df-a88f2fb0-f6ac-4101-80ee-52383374ab68')\"\n",
              "              title=\"Convert this dataframe to an interactive table.\"\n",
              "              style=\"display:none;\">\n",
              "        \n",
              "  <svg xmlns=\"http://www.w3.org/2000/svg\" height=\"24px\"viewBox=\"0 0 24 24\"\n",
              "       width=\"24px\">\n",
              "    <path d=\"M0 0h24v24H0V0z\" fill=\"none\"/>\n",
              "    <path d=\"M18.56 5.44l.94 2.06.94-2.06 2.06-.94-2.06-.94-.94-2.06-.94 2.06-2.06.94zm-11 1L8.5 8.5l.94-2.06 2.06-.94-2.06-.94L8.5 2.5l-.94 2.06-2.06.94zm10 10l.94 2.06.94-2.06 2.06-.94-2.06-.94-.94-2.06-.94 2.06-2.06.94z\"/><path d=\"M17.41 7.96l-1.37-1.37c-.4-.4-.92-.59-1.43-.59-.52 0-1.04.2-1.43.59L10.3 9.45l-7.72 7.72c-.78.78-.78 2.05 0 2.83L4 21.41c.39.39.9.59 1.41.59.51 0 1.02-.2 1.41-.59l7.78-7.78 2.81-2.81c.8-.78.8-2.07 0-2.86zM5.41 20L4 18.59l7.72-7.72 1.47 1.35L5.41 20z\"/>\n",
              "  </svg>\n",
              "      </button>\n",
              "      \n",
              "  <style>\n",
              "    .colab-df-container {\n",
              "      display:flex;\n",
              "      flex-wrap:wrap;\n",
              "      gap: 12px;\n",
              "    }\n",
              "\n",
              "    .colab-df-convert {\n",
              "      background-color: #E8F0FE;\n",
              "      border: none;\n",
              "      border-radius: 50%;\n",
              "      cursor: pointer;\n",
              "      display: none;\n",
              "      fill: #1967D2;\n",
              "      height: 32px;\n",
              "      padding: 0 0 0 0;\n",
              "      width: 32px;\n",
              "    }\n",
              "\n",
              "    .colab-df-convert:hover {\n",
              "      background-color: #E2EBFA;\n",
              "      box-shadow: 0px 1px 2px rgba(60, 64, 67, 0.3), 0px 1px 3px 1px rgba(60, 64, 67, 0.15);\n",
              "      fill: #174EA6;\n",
              "    }\n",
              "\n",
              "    [theme=dark] .colab-df-convert {\n",
              "      background-color: #3B4455;\n",
              "      fill: #D2E3FC;\n",
              "    }\n",
              "\n",
              "    [theme=dark] .colab-df-convert:hover {\n",
              "      background-color: #434B5C;\n",
              "      box-shadow: 0px 1px 3px 1px rgba(0, 0, 0, 0.15);\n",
              "      filter: drop-shadow(0px 1px 2px rgba(0, 0, 0, 0.3));\n",
              "      fill: #FFFFFF;\n",
              "    }\n",
              "  </style>\n",
              "\n",
              "      <script>\n",
              "        const buttonEl =\n",
              "          document.querySelector('#df-a88f2fb0-f6ac-4101-80ee-52383374ab68 button.colab-df-convert');\n",
              "        buttonEl.style.display =\n",
              "          google.colab.kernel.accessAllowed ? 'block' : 'none';\n",
              "\n",
              "        async function convertToInteractive(key) {\n",
              "          const element = document.querySelector('#df-a88f2fb0-f6ac-4101-80ee-52383374ab68');\n",
              "          const dataTable =\n",
              "            await google.colab.kernel.invokeFunction('convertToInteractive',\n",
              "                                                     [key], {});\n",
              "          if (!dataTable) return;\n",
              "\n",
              "          const docLinkHtml = 'Like what you see? Visit the ' +\n",
              "            '<a target=\"_blank\" href=https://colab.research.google.com/notebooks/data_table.ipynb>data table notebook</a>'\n",
              "            + ' to learn more about interactive tables.';\n",
              "          element.innerHTML = '';\n",
              "          dataTable['output_type'] = 'display_data';\n",
              "          await google.colab.output.renderOutput(dataTable, element);\n",
              "          const docLink = document.createElement('div');\n",
              "          docLink.innerHTML = docLinkHtml;\n",
              "          element.appendChild(docLink);\n",
              "        }\n",
              "      </script>\n",
              "    </div>\n",
              "  </div>\n",
              "  "
            ],
            "text/plain": [
              "         0    1    2    3    4    5    6    7    8    9    ...  561  562  563  \\\n",
              "0  194677810    0    0    0    0    0    0    0    0    0  ...    0    0    0   \n",
              "1   48460288    0    0    0    0    0    0    0    0    0  ...    0    0    0   \n",
              "2   19586880    0    0    0    0    0    0    0    0    0  ...    0    0    0   \n",
              "3  357032926    0    0    0    0    0    0    0    0    0  ...    0    0    0   \n",
              "4   17836026    0    0    1    0    0    0    0    0    0  ...    0    0    0   \n",
              "\n",
              "   564  565  566  567  568  569  570  \n",
              "0    0    0    0    0    0    0    0  \n",
              "1    1    0    0    0    0    0    0  \n",
              "2    0    0    0    0    0    0    0  \n",
              "3    0    0    0    0    0    0    0  \n",
              "4    0    0    0    0    0    0    0  \n",
              "\n",
              "[5 rows x 571 columns]"
            ]
          },
          "execution_count": 3,
          "metadata": {},
          "output_type": "execute_result"
        }
      ],
      "source": [
        "te_feat= 'https://raw.githubusercontent.com/wang422003/Complex-Networks_exercise/main/Datasets/Group3/Twitter-Ego/789071.feat'\n",
        "TE_feat = pd.read_csv(te_feat, delimiter=\" \", encoding = \"ISO-8859-1\",header = None)\n",
        "TE_feat.head()"
      ]
    },
    {
      "cell_type": "code",
      "execution_count": null,
      "metadata": {
        "colab": {
          "base_uri": "https://localhost:8080/",
          "height": 206
        },
        "id": "PcoqDIj5mN3G",
        "outputId": "bb8578c5-3cc2-4be8-d6da-00263d745d50"
      },
      "outputs": [
        {
          "data": {
            "text/html": [
              "\n",
              "  <div id=\"df-dcaf6fbe-9a9b-42cf-b0dc-4bfb03eac347\">\n",
              "    <div class=\"colab-df-container\">\n",
              "      <div>\n",
              "<style scoped>\n",
              "    .dataframe tbody tr th:only-of-type {\n",
              "        vertical-align: middle;\n",
              "    }\n",
              "\n",
              "    .dataframe tbody tr th {\n",
              "        vertical-align: top;\n",
              "    }\n",
              "\n",
              "    .dataframe thead th {\n",
              "        text-align: right;\n",
              "    }\n",
              "</style>\n",
              "<table border=\"1\" class=\"dataframe\">\n",
              "  <thead>\n",
              "    <tr style=\"text-align: right;\">\n",
              "      <th></th>\n",
              "      <th>Node1</th>\n",
              "      <th>Node2</th>\n",
              "    </tr>\n",
              "  </thead>\n",
              "  <tbody>\n",
              "    <tr>\n",
              "      <th>0</th>\n",
              "      <td>79312312</td>\n",
              "      <td>20079982</td>\n",
              "    </tr>\n",
              "    <tr>\n",
              "      <th>1</th>\n",
              "      <td>191477840</td>\n",
              "      <td>18953259</td>\n",
              "    </tr>\n",
              "    <tr>\n",
              "      <th>2</th>\n",
              "      <td>60923426</td>\n",
              "      <td>19982092</td>\n",
              "    </tr>\n",
              "    <tr>\n",
              "      <th>3</th>\n",
              "      <td>357032926</td>\n",
              "      <td>169443767</td>\n",
              "    </tr>\n",
              "    <tr>\n",
              "      <th>4</th>\n",
              "      <td>18953259</td>\n",
              "      <td>44874400</td>\n",
              "    </tr>\n",
              "  </tbody>\n",
              "</table>\n",
              "</div>\n",
              "      <button class=\"colab-df-convert\" onclick=\"convertToInteractive('df-dcaf6fbe-9a9b-42cf-b0dc-4bfb03eac347')\"\n",
              "              title=\"Convert this dataframe to an interactive table.\"\n",
              "              style=\"display:none;\">\n",
              "        \n",
              "  <svg xmlns=\"http://www.w3.org/2000/svg\" height=\"24px\"viewBox=\"0 0 24 24\"\n",
              "       width=\"24px\">\n",
              "    <path d=\"M0 0h24v24H0V0z\" fill=\"none\"/>\n",
              "    <path d=\"M18.56 5.44l.94 2.06.94-2.06 2.06-.94-2.06-.94-.94-2.06-.94 2.06-2.06.94zm-11 1L8.5 8.5l.94-2.06 2.06-.94-2.06-.94L8.5 2.5l-.94 2.06-2.06.94zm10 10l.94 2.06.94-2.06 2.06-.94-2.06-.94-.94-2.06-.94 2.06-2.06.94z\"/><path d=\"M17.41 7.96l-1.37-1.37c-.4-.4-.92-.59-1.43-.59-.52 0-1.04.2-1.43.59L10.3 9.45l-7.72 7.72c-.78.78-.78 2.05 0 2.83L4 21.41c.39.39.9.59 1.41.59.51 0 1.02-.2 1.41-.59l7.78-7.78 2.81-2.81c.8-.78.8-2.07 0-2.86zM5.41 20L4 18.59l7.72-7.72 1.47 1.35L5.41 20z\"/>\n",
              "  </svg>\n",
              "      </button>\n",
              "      \n",
              "  <style>\n",
              "    .colab-df-container {\n",
              "      display:flex;\n",
              "      flex-wrap:wrap;\n",
              "      gap: 12px;\n",
              "    }\n",
              "\n",
              "    .colab-df-convert {\n",
              "      background-color: #E8F0FE;\n",
              "      border: none;\n",
              "      border-radius: 50%;\n",
              "      cursor: pointer;\n",
              "      display: none;\n",
              "      fill: #1967D2;\n",
              "      height: 32px;\n",
              "      padding: 0 0 0 0;\n",
              "      width: 32px;\n",
              "    }\n",
              "\n",
              "    .colab-df-convert:hover {\n",
              "      background-color: #E2EBFA;\n",
              "      box-shadow: 0px 1px 2px rgba(60, 64, 67, 0.3), 0px 1px 3px 1px rgba(60, 64, 67, 0.15);\n",
              "      fill: #174EA6;\n",
              "    }\n",
              "\n",
              "    [theme=dark] .colab-df-convert {\n",
              "      background-color: #3B4455;\n",
              "      fill: #D2E3FC;\n",
              "    }\n",
              "\n",
              "    [theme=dark] .colab-df-convert:hover {\n",
              "      background-color: #434B5C;\n",
              "      box-shadow: 0px 1px 3px 1px rgba(0, 0, 0, 0.15);\n",
              "      filter: drop-shadow(0px 1px 2px rgba(0, 0, 0, 0.3));\n",
              "      fill: #FFFFFF;\n",
              "    }\n",
              "  </style>\n",
              "\n",
              "      <script>\n",
              "        const buttonEl =\n",
              "          document.querySelector('#df-dcaf6fbe-9a9b-42cf-b0dc-4bfb03eac347 button.colab-df-convert');\n",
              "        buttonEl.style.display =\n",
              "          google.colab.kernel.accessAllowed ? 'block' : 'none';\n",
              "\n",
              "        async function convertToInteractive(key) {\n",
              "          const element = document.querySelector('#df-dcaf6fbe-9a9b-42cf-b0dc-4bfb03eac347');\n",
              "          const dataTable =\n",
              "            await google.colab.kernel.invokeFunction('convertToInteractive',\n",
              "                                                     [key], {});\n",
              "          if (!dataTable) return;\n",
              "\n",
              "          const docLinkHtml = 'Like what you see? Visit the ' +\n",
              "            '<a target=\"_blank\" href=https://colab.research.google.com/notebooks/data_table.ipynb>data table notebook</a>'\n",
              "            + ' to learn more about interactive tables.';\n",
              "          element.innerHTML = '';\n",
              "          dataTable['output_type'] = 'display_data';\n",
              "          await google.colab.output.renderOutput(dataTable, element);\n",
              "          const docLink = document.createElement('div');\n",
              "          docLink.innerHTML = docLinkHtml;\n",
              "          element.appendChild(docLink);\n",
              "        }\n",
              "      </script>\n",
              "    </div>\n",
              "  </div>\n",
              "  "
            ],
            "text/plain": [
              "       Node1      Node2\n",
              "0   79312312   20079982\n",
              "1  191477840   18953259\n",
              "2   60923426   19982092\n",
              "3  357032926  169443767\n",
              "4   18953259   44874400"
            ]
          },
          "execution_count": 4,
          "metadata": {},
          "output_type": "execute_result"
        }
      ],
      "source": [
        "fe_edges = 'https://raw.githubusercontent.com/wang422003/Complex-Networks_exercise/main/Datasets/Group3/Facebook-Ego/348.edges'\n",
        "FE_edges =pd.read_csv(te_edges,delimiter=\" \",names = [\"Node1\", \"Node2\"], encoding = \"ISO-8859-1\")\n",
        "FE_edges.head()"
      ]
    },
    {
      "cell_type": "code",
      "execution_count": 46,
      "metadata": {
        "colab": {
          "base_uri": "https://localhost:8080/",
          "height": 235
        },
        "id": "YahaoLuAq8nt",
        "outputId": "f65badde-f205-4e0c-83d0-4b06e303ebc2"
      },
      "outputs": [
        {
          "data": {
            "text/html": [
              "\n",
              "  <div id=\"df-5efa5892-dee1-4c99-8bd4-2be5329e0416\">\n",
              "    <div class=\"colab-df-container\">\n",
              "      <div>\n",
              "<style scoped>\n",
              "    .dataframe tbody tr th:only-of-type {\n",
              "        vertical-align: middle;\n",
              "    }\n",
              "\n",
              "    .dataframe tbody tr th {\n",
              "        vertical-align: top;\n",
              "    }\n",
              "\n",
              "    .dataframe thead th {\n",
              "        text-align: right;\n",
              "    }\n",
              "</style>\n",
              "<table border=\"1\" class=\"dataframe\">\n",
              "  <thead>\n",
              "    <tr style=\"text-align: right;\">\n",
              "      <th></th>\n",
              "      <th>0</th>\n",
              "      <th>1</th>\n",
              "      <th>2</th>\n",
              "      <th>3</th>\n",
              "      <th>4</th>\n",
              "      <th>5</th>\n",
              "      <th>6</th>\n",
              "      <th>7</th>\n",
              "      <th>8</th>\n",
              "      <th>9</th>\n",
              "      <th>...</th>\n",
              "      <th>152</th>\n",
              "      <th>153</th>\n",
              "      <th>154</th>\n",
              "      <th>155</th>\n",
              "      <th>156</th>\n",
              "      <th>157</th>\n",
              "      <th>158</th>\n",
              "      <th>159</th>\n",
              "      <th>160</th>\n",
              "      <th>161</th>\n",
              "    </tr>\n",
              "  </thead>\n",
              "  <tbody>\n",
              "    <tr>\n",
              "      <th>0</th>\n",
              "      <td>349</td>\n",
              "      <td>0</td>\n",
              "      <td>0</td>\n",
              "      <td>0</td>\n",
              "      <td>0</td>\n",
              "      <td>0</td>\n",
              "      <td>0</td>\n",
              "      <td>0</td>\n",
              "      <td>0</td>\n",
              "      <td>0</td>\n",
              "      <td>...</td>\n",
              "      <td>0</td>\n",
              "      <td>0</td>\n",
              "      <td>0</td>\n",
              "      <td>0</td>\n",
              "      <td>0</td>\n",
              "      <td>0</td>\n",
              "      <td>0</td>\n",
              "      <td>0</td>\n",
              "      <td>0</td>\n",
              "      <td>0</td>\n",
              "    </tr>\n",
              "    <tr>\n",
              "      <th>1</th>\n",
              "      <td>350</td>\n",
              "      <td>0</td>\n",
              "      <td>0</td>\n",
              "      <td>0</td>\n",
              "      <td>0</td>\n",
              "      <td>0</td>\n",
              "      <td>0</td>\n",
              "      <td>1</td>\n",
              "      <td>0</td>\n",
              "      <td>0</td>\n",
              "      <td>...</td>\n",
              "      <td>0</td>\n",
              "      <td>0</td>\n",
              "      <td>0</td>\n",
              "      <td>0</td>\n",
              "      <td>0</td>\n",
              "      <td>0</td>\n",
              "      <td>0</td>\n",
              "      <td>0</td>\n",
              "      <td>0</td>\n",
              "      <td>0</td>\n",
              "    </tr>\n",
              "    <tr>\n",
              "      <th>2</th>\n",
              "      <td>351</td>\n",
              "      <td>0</td>\n",
              "      <td>0</td>\n",
              "      <td>0</td>\n",
              "      <td>1</td>\n",
              "      <td>0</td>\n",
              "      <td>0</td>\n",
              "      <td>0</td>\n",
              "      <td>0</td>\n",
              "      <td>0</td>\n",
              "      <td>...</td>\n",
              "      <td>0</td>\n",
              "      <td>0</td>\n",
              "      <td>0</td>\n",
              "      <td>0</td>\n",
              "      <td>0</td>\n",
              "      <td>0</td>\n",
              "      <td>0</td>\n",
              "      <td>0</td>\n",
              "      <td>0</td>\n",
              "      <td>0</td>\n",
              "    </tr>\n",
              "    <tr>\n",
              "      <th>3</th>\n",
              "      <td>352</td>\n",
              "      <td>0</td>\n",
              "      <td>0</td>\n",
              "      <td>0</td>\n",
              "      <td>0</td>\n",
              "      <td>0</td>\n",
              "      <td>0</td>\n",
              "      <td>0</td>\n",
              "      <td>0</td>\n",
              "      <td>0</td>\n",
              "      <td>...</td>\n",
              "      <td>0</td>\n",
              "      <td>0</td>\n",
              "      <td>0</td>\n",
              "      <td>0</td>\n",
              "      <td>0</td>\n",
              "      <td>0</td>\n",
              "      <td>0</td>\n",
              "      <td>0</td>\n",
              "      <td>0</td>\n",
              "      <td>0</td>\n",
              "    </tr>\n",
              "    <tr>\n",
              "      <th>4</th>\n",
              "      <td>353</td>\n",
              "      <td>0</td>\n",
              "      <td>0</td>\n",
              "      <td>0</td>\n",
              "      <td>0</td>\n",
              "      <td>0</td>\n",
              "      <td>0</td>\n",
              "      <td>0</td>\n",
              "      <td>0</td>\n",
              "      <td>1</td>\n",
              "      <td>...</td>\n",
              "      <td>0</td>\n",
              "      <td>0</td>\n",
              "      <td>0</td>\n",
              "      <td>0</td>\n",
              "      <td>0</td>\n",
              "      <td>0</td>\n",
              "      <td>0</td>\n",
              "      <td>0</td>\n",
              "      <td>0</td>\n",
              "      <td>0</td>\n",
              "    </tr>\n",
              "  </tbody>\n",
              "</table>\n",
              "<p>5 rows × 162 columns</p>\n",
              "</div>\n",
              "      <button class=\"colab-df-convert\" onclick=\"convertToInteractive('df-5efa5892-dee1-4c99-8bd4-2be5329e0416')\"\n",
              "              title=\"Convert this dataframe to an interactive table.\"\n",
              "              style=\"display:none;\">\n",
              "        \n",
              "  <svg xmlns=\"http://www.w3.org/2000/svg\" height=\"24px\"viewBox=\"0 0 24 24\"\n",
              "       width=\"24px\">\n",
              "    <path d=\"M0 0h24v24H0V0z\" fill=\"none\"/>\n",
              "    <path d=\"M18.56 5.44l.94 2.06.94-2.06 2.06-.94-2.06-.94-.94-2.06-.94 2.06-2.06.94zm-11 1L8.5 8.5l.94-2.06 2.06-.94-2.06-.94L8.5 2.5l-.94 2.06-2.06.94zm10 10l.94 2.06.94-2.06 2.06-.94-2.06-.94-.94-2.06-.94 2.06-2.06.94z\"/><path d=\"M17.41 7.96l-1.37-1.37c-.4-.4-.92-.59-1.43-.59-.52 0-1.04.2-1.43.59L10.3 9.45l-7.72 7.72c-.78.78-.78 2.05 0 2.83L4 21.41c.39.39.9.59 1.41.59.51 0 1.02-.2 1.41-.59l7.78-7.78 2.81-2.81c.8-.78.8-2.07 0-2.86zM5.41 20L4 18.59l7.72-7.72 1.47 1.35L5.41 20z\"/>\n",
              "  </svg>\n",
              "      </button>\n",
              "      \n",
              "  <style>\n",
              "    .colab-df-container {\n",
              "      display:flex;\n",
              "      flex-wrap:wrap;\n",
              "      gap: 12px;\n",
              "    }\n",
              "\n",
              "    .colab-df-convert {\n",
              "      background-color: #E8F0FE;\n",
              "      border: none;\n",
              "      border-radius: 50%;\n",
              "      cursor: pointer;\n",
              "      display: none;\n",
              "      fill: #1967D2;\n",
              "      height: 32px;\n",
              "      padding: 0 0 0 0;\n",
              "      width: 32px;\n",
              "    }\n",
              "\n",
              "    .colab-df-convert:hover {\n",
              "      background-color: #E2EBFA;\n",
              "      box-shadow: 0px 1px 2px rgba(60, 64, 67, 0.3), 0px 1px 3px 1px rgba(60, 64, 67, 0.15);\n",
              "      fill: #174EA6;\n",
              "    }\n",
              "\n",
              "    [theme=dark] .colab-df-convert {\n",
              "      background-color: #3B4455;\n",
              "      fill: #D2E3FC;\n",
              "    }\n",
              "\n",
              "    [theme=dark] .colab-df-convert:hover {\n",
              "      background-color: #434B5C;\n",
              "      box-shadow: 0px 1px 3px 1px rgba(0, 0, 0, 0.15);\n",
              "      filter: drop-shadow(0px 1px 2px rgba(0, 0, 0, 0.3));\n",
              "      fill: #FFFFFF;\n",
              "    }\n",
              "  </style>\n",
              "\n",
              "      <script>\n",
              "        const buttonEl =\n",
              "          document.querySelector('#df-5efa5892-dee1-4c99-8bd4-2be5329e0416 button.colab-df-convert');\n",
              "        buttonEl.style.display =\n",
              "          google.colab.kernel.accessAllowed ? 'block' : 'none';\n",
              "\n",
              "        async function convertToInteractive(key) {\n",
              "          const element = document.querySelector('#df-5efa5892-dee1-4c99-8bd4-2be5329e0416');\n",
              "          const dataTable =\n",
              "            await google.colab.kernel.invokeFunction('convertToInteractive',\n",
              "                                                     [key], {});\n",
              "          if (!dataTable) return;\n",
              "\n",
              "          const docLinkHtml = 'Like what you see? Visit the ' +\n",
              "            '<a target=\"_blank\" href=https://colab.research.google.com/notebooks/data_table.ipynb>data table notebook</a>'\n",
              "            + ' to learn more about interactive tables.';\n",
              "          element.innerHTML = '';\n",
              "          dataTable['output_type'] = 'display_data';\n",
              "          await google.colab.output.renderOutput(dataTable, element);\n",
              "          const docLink = document.createElement('div');\n",
              "          docLink.innerHTML = docLinkHtml;\n",
              "          element.appendChild(docLink);\n",
              "        }\n",
              "      </script>\n",
              "    </div>\n",
              "  </div>\n",
              "  "
            ],
            "text/plain": [
              "   0    1    2    3    4    5    6    7    8    9    ...  152  153  154  155  \\\n",
              "0  349    0    0    0    0    0    0    0    0    0  ...    0    0    0    0   \n",
              "1  350    0    0    0    0    0    0    1    0    0  ...    0    0    0    0   \n",
              "2  351    0    0    0    1    0    0    0    0    0  ...    0    0    0    0   \n",
              "3  352    0    0    0    0    0    0    0    0    0  ...    0    0    0    0   \n",
              "4  353    0    0    0    0    0    0    0    0    1  ...    0    0    0    0   \n",
              "\n",
              "   156  157  158  159  160  161  \n",
              "0    0    0    0    0    0    0  \n",
              "1    0    0    0    0    0    0  \n",
              "2    0    0    0    0    0    0  \n",
              "3    0    0    0    0    0    0  \n",
              "4    0    0    0    0    0    0  \n",
              "\n",
              "[5 rows x 162 columns]"
            ]
          },
          "execution_count": 46,
          "metadata": {},
          "output_type": "execute_result"
        }
      ],
      "source": [
        "fe_feat= 'https://raw.githubusercontent.com/wang422003/Complex-Networks_exercise/main/Datasets/Group3/Facebook-Ego/348.feat'\n",
        "FE_feat = pd.read_csv(fe_feat, delimiter=\" \", encoding = \"ISO-8859-1\",header = None)\n",
        "FE_feat.head()"
      ]
    },
    {
      "cell_type": "markdown",
      "metadata": {
        "id": "TyrJa6eGnpVg"
      },
      "source": [
        "\n",
        "\n",
        "```\n",
        "# This is formatted as code\n",
        "```\n",
        "\n",
        "**1.a )** How many nodes and edges are there in the networks?\n",
        "--Build a directed graph for Twitter data. "
      ]
    },
    {
      "cell_type": "code",
      "execution_count": null,
      "metadata": {
        "colab": {
          "base_uri": "https://localhost:8080/"
        },
        "id": "Y19AwG2OmN3J",
        "outputId": "9a279f2d-2af3-4e6f-babd-c4c4eab0f9fe"
      },
      "outputs": [
        {
          "name": "stdout",
          "output_type": "stream",
          "text": [
            "Number of nodes for Twitter data is 149\n"
          ]
        }
      ],
      "source": [
        "TE_G = nx.DiGraph()\n",
        "for node in TE_feat[0]:\n",
        "  TE_G.add_node(node)\n",
        "print(\"Number of nodes for Twitter data is \" + str(TE_G.number_of_nodes()))\n"
      ]
    },
    {
      "cell_type": "code",
      "execution_count": null,
      "metadata": {
        "colab": {
          "base_uri": "https://localhost:8080/"
        },
        "id": "F84LxRvImN3M",
        "outputId": "41f0d7d9-e658-414b-ef28-c2e800caf4f6"
      },
      "outputs": [
        {
          "name": "stdout",
          "output_type": "stream",
          "text": [
            "Number of edges for Twitter data is 1128\n"
          ]
        }
      ],
      "source": [
        "[TE_G.add_edge(n1, n2) for n1, n2 in zip(TE_edges['Node1'], TE_edges['Node2'])]\n",
        "print(\"Number of edges for Twitter data is \" + str(TE_G.number_of_edges()))"
      ]
    },
    {
      "cell_type": "markdown",
      "metadata": {
        "id": "PwfKra0ttGcn"
      },
      "source": [
        "--Build an undirected graph for Facebook data. "
      ]
    },
    {
      "cell_type": "code",
      "execution_count": 47,
      "metadata": {
        "colab": {
          "base_uri": "https://localhost:8080/"
        },
        "id": "IZicwf95mN3N",
        "outputId": "8a02a21f-e9b0-4b2d-a5b5-ffb83b768d38"
      },
      "outputs": [
        {
          "name": "stdout",
          "output_type": "stream",
          "text": [
            "Number of Nodes for Facebook data is 150\n"
          ]
        }
      ],
      "source": [
        "FE_G = nx.Graph()\n",
        "for node in FE_feat[0]:\n",
        " FE_G.add_node(node)\n",
        "print(\"Number of Nodes for Facebook data is \" + str(FE_G.number_of_nodes()))"
      ]
    },
    {
      "cell_type": "code",
      "execution_count": 49,
      "metadata": {
        "colab": {
          "base_uri": "https://localhost:8080/"
        },
        "id": "GJCdqSetmN3P",
        "outputId": "b1f4b1e9-3492-4a47-83c4-7a1ca53dfb61"
      },
      "outputs": [
        {
          "name": "stdout",
          "output_type": "stream",
          "text": [
            "Number of Edges for Facebook data is 834\n"
          ]
        }
      ],
      "source": [
        "[FE_G.add_edge(n1, n2) for n1, n2 in zip(FE_edges['Node1'], FE_edges['Node2'])]\n",
        "print(\"Number of Edges for Facebook data is \" + str(FE_G.number_of_edges()))\n"
      ]
    },
    {
      "cell_type": "markdown",
      "metadata": {
        "id": "fITtPGTUu4WN"
      },
      "source": [
        "**1.b)** What are the maximum degree and the average degree of the\n",
        "networks?"
      ]
    },
    {
      "cell_type": "code",
      "execution_count": 48,
      "metadata": {
        "colab": {
          "base_uri": "https://localhost:8080/"
        },
        "id": "p0k72ACimN3U",
        "outputId": "0b187f0e-c728-47d9-dfdc-92d437edef48"
      },
      "outputs": [
        {
          "name": "stdout",
          "output_type": "stream",
          "text": [
            "Max Degree for Twitter data is 62\n",
            "Average Degree for Twitter data is： 15.140939597315436\n"
          ]
        }
      ],
      "source": [
        "TE_degrees = dict(nx.degree(TE_G))\n",
        "#print(TE_degrees)\n",
        "print(\"Max Degree for Twitter data is \"+str(max(TE_degrees.values())))\n",
        "print(\"Average Degree for Twitter data is：\", sum(TE_degrees.values())/len(TE_G.nodes))\n",
        "  \n"
      ]
    },
    {
      "cell_type": "code",
      "execution_count": null,
      "metadata": {
        "colab": {
          "base_uri": "https://localhost:8080/"
        },
        "id": "_Xr6HaH7xGw3",
        "outputId": "d6e68767-5da3-4812-ea7a-53cc3b8751d2"
      },
      "outputs": [
        {
          "name": "stdout",
          "output_type": "stream",
          "text": [
            "Max Degree for Facebook data is 45\n",
            "Average Degree for Facebook data is： 5.791666666666667\n"
          ]
        }
      ],
      "source": [
        "FE_degrees = dict(nx.degree(FE_G))\n",
        "#print(TE_degrees)\n",
        "print(\"Max Degree for Facebook data is \"+str(max(FE_degrees.values())))\n",
        "print(\"Average Degree for Facebook data is：\", sum(FE_degrees.values())/len(FE_G.nodes))"
      ]
    },
    {
      "cell_type": "markdown",
      "metadata": {
        "id": "jSkbaCvc6Th-"
      },
      "source": [
        "**1.c)** Extract 5 - 8 nodes from the network and state them as a partial network. What is the adjacency matrix of the partial network?"
      ]
    },
    {
      "cell_type": "code",
      "execution_count": null,
      "metadata": {
        "colab": {
          "base_uri": "https://localhost:8080/",
          "height": 476
        },
        "id": "wf_FA00T6S0g",
        "outputId": "9dbb4d65-93ad-4715-e7c5-feec67388b42"
      },
      "outputs": [
        {
          "name": "stdout",
          "output_type": "stream",
          "text": [
            "nx.degree: [(194677810, 6), (48460288, 11), (19586880, 31), (357032926, 12), (17836026, 4), (41213678, 1), (534026234, 1), (23771106, 5), (297074078, 6), (44874400, 21), (79312312, 28), (276963941, 3), (1976611, 4), (23873876, 8), (19795629, 21), (44101412, 45), (20591788, 18), (20136458, 39), (30104231, 6), (19702854, 42), (15670515, 7), (145852539, 6), (24737926, 21), (25066470, 24), (19095849, 22), (30231735, 20), (135281645, 5), (388212339, 5), (40196232, 17), (253089222, 3), (60923426, 29), (20359781, 5), (219208124, 26), (58746259, 3), (113134752, 8), (202680748, 13), (280495347, 2), (20279424, 4), (7111412, 45), (7861312, 18), (6917742, 0), (138114621, 12), (20083529, 41), (146993421, 0), (353466012, 1), (30614676, 13), (267098336, 11), (16464746, 5), (20777047, 5), (17753033, 44), (24494723, 0), (12152402, 38), (18980276, 14), (33174013, 49), (8115852, 8), (16855106, 2), (203694329, 6), (403383741, 2), (20039230, 23), (172814159, 10), (215952307, 40), (367284950, 3), (17350250, 15), (278556009, 10), (52613032, 9), (53297035, 13), (27998216, 6), (390611178, 2), (333449324, 9), (413487212, 12), (34747631, 27), (66561957, 24), (7670202, 0), (14202104, 15), (19970709, 28), (90420314, 25), (280490190, 0), (107556834, 15), (157627966, 0), (22800874, 9), (40148479, 0), (78129590, 23), (19524590, 18), (78207918, 11), (19718832, 2), (6368672, 1), (6054912, 18), (19364873, 9), (43289545, 8), (169443767, 19), (64496398, 18), (108657758, 9), (95233955, 7), (21447363, 28), (19818494, 54), (20138935, 32), (538245048, 2), (8203942, 0), (427699604, 3), (181750109, 12), (407977463, 16), (352226135, 12), (26465656, 21), (20015311, 23), (19129073, 19), (42861755, 6), (160143038, 9), (7846, 29), (30025965, 8), (15294801, 11), (142157505, 12), (20137301, 32), (18963070, 16), (19957312, 28), (39348085, 38), (113126125, 49), (20344826, 12), (21966989, 3), (18331980, 17), (31123109, 10), (24083901, 19), (51171395, 9), (23654341, 7), (17020962, 39), (19337423, 3), (199009284, 4), (19233002, 26), (268806872, 2), (289759808, 2), (14100010, 50), (189586557, 0), (16736293, 0), (117848769, 10), (35756647, 3), (270106571, 1), (191477840, 12), (1715051, 20), (18265433, 27), (6353802, 4), (24737621, 18), (27825390, 12), (1378711, 0), (68606521, 6), (19982092, 62), (20230544, 21), (18953259, 54), (151232686, 5), (27816957, 4), (20079982, 50)]\n"
          ]
        },
        {
          "data": {
            "image/png": "[encoded data removed]",
            "text/plain": [
              "<Figure size 432x288 with 1 Axes>"
            ]
          },
          "metadata": {},
          "output_type": "display_data"
        },
        {
          "name": "stdout",
          "output_type": "stream",
          "text": [
            "[[0 1 1 1 1 1]\n",
            " [0 0 0 0 0 0]\n",
            " [0 0 0 0 0 0]\n",
            " [0 0 0 0 0 0]\n",
            " [0 0 0 0 0 0]\n",
            " [0 0 0 0 0 0]]\n"
          ]
        }
      ],
      "source": [
        "#print('nx.degree:',nx.degree(TE_G))\n",
        "# partail network for Twitter data\n",
        "TE_PG = nx.DiGraph()\n",
        "TE_PG.add_edges_from(list(TE_G.edges)[18:23]) \n",
        "\n",
        "nx.draw(TE_PG, with_labels=True) \n",
        "plt.axis('on')\n",
        "plt.xticks([])\n",
        "plt.yticks([])\n",
        "plt.title('partail network for Twitter data',fontsize=12,color='b')\n",
        "plt.show() \n",
        "\n",
        "\n",
        "A_TE_PG=np.array(nx.adjacency_matrix(TE_PG).todense())\n",
        "print(A_TE_PG)"
      ]
    },
    {
      "cell_type": "code",
      "execution_count": null,
      "metadata": {
        "id": "wtbHeB7qCIWl"
      },
      "outputs": [],
      "source": []
    },
    {
      "cell_type": "code",
      "execution_count": null,
      "metadata": {
        "colab": {
          "base_uri": "https://localhost:8080/",
          "height": 439
        },
        "id": "i58JUbTsCJKN",
        "outputId": "1b9ee879-8795-44e4-b2ca-75051a3d0ffb"
      },
      "outputs": [
        {
          "data": {
            "image/png": "[encoded data removed]",
            "text/plain": [
              "<Figure size 432x288 with 1 Axes>"
            ]
          },
          "metadata": {},
          "output_type": "display_data"
        },
        {
          "name": "stdout",
          "output_type": "stream",
          "text": [
            "[[0 1 1 1 1 1]\n",
            " [1 0 0 0 0 0]\n",
            " [1 0 0 0 0 0]\n",
            " [1 0 0 0 0 0]\n",
            " [1 0 0 0 0 0]\n",
            " [1 0 0 0 0 0]]\n"
          ]
        }
      ],
      "source": [
        "#print('nx.degree:',nx.degree(FE_G))\n",
        "#print(FE_G[79312312])\n",
        "# partail network for Facebook data\n",
        "FE_PG = nx.Graph()\n",
        "FE_PG.add_edges_from(list(FE_G.edges)[0:5]) \n",
        "\n",
        "nx.draw(FE_PG, with_labels=True) \n",
        "plt.axis('on')\n",
        "plt.xticks([])\n",
        "plt.yticks([])\n",
        "plt.title('partail network for Facebook data',fontsize=12,color='b')\n",
        "plt.show() \n",
        "\n",
        "A_FE_PG=np.array(nx.adjacency_matrix(FE_PG).todense())\n",
        "print(A_FE_PG)"
      ]
    },
    {
      "cell_type": "markdown",
      "metadata": {
        "id": "JJ47VxfdDyZa"
      },
      "source": [
        "**Why do we need adjacency matrix to describe the structure of the network?**"
      ]
    },
    {
      "cell_type": "markdown",
      "metadata": {
        "id": "z16JMUhuD2RP"
      },
      "source": [
        "**Answer:** \n",
        "1. A simple and reliable way to build, store, search and change relationships between nodes;\n",
        "2. By calculating adjacency matrix to the power of K($A^k$), the optimal k paths between two nodes can be obtained, if these paths exist\n"
      ]
    },
    {
      "cell_type": "markdown",
      "metadata": {
        "id": "wPbbuc4-hxvn"
      },
      "source": [
        "\n",
        "\n",
        "# **assigment 4 **\n",
        "\n",
        "---\n",
        "\n",
        "\n",
        "\n",
        "\n",
        "4(a) Choose one of the datasets, calculate the betweenness closeness and \n",
        "\n",
        "\n",
        "PageRank mentioned in the\n",
        "lecture on all of the nodes. Please compare the results. What cause the difference between the\n",
        "results?\n"
      ]
    },
    {
      "cell_type": "code",
      "execution_count": 63,
      "metadata": {
        "colab": {
          "base_uri": "https://localhost:8080/",
          "height": 409
        },
        "id": "3nu7izcHDVV4",
        "outputId": "f859ff64-5625-4402-952f-6ef331fdb3a2"
      },
      "outputs": [
        {
          "name": "stdout",
          "output_type": "stream",
          "text": [
            "betweenness closeness:  {349: 0.0, 350: 0.0, 351: 0.0, 352: 0.0, 353: 0.0, 354: 0.0, 355: 0.0, 356: 0.0, 357: 0.0, 358: 0.0, 359: 0.0, 360: 0.0, 361: 0.0, 362: 0.0, 363: 0.0, 364: 0.0, 365: 0.0, 366: 0.0, 367: 0.0, 368: 0.0, 369: 0.0, 370: 0.0, 371: 0.0, 372: 0.0, 373: 0.0, 34: 0.0, 374: 0.0, 375: 0.0, 376: 0.0, 377: 0.0, 378: 0.0, 379: 0.0, 380: 0.0, 381: 0.0, 382: 0.0, 383: 0.0, 384: 0.0, 385: 0.0, 386: 0.0, 387: 0.0, 388: 0.0, 389: 0.0, 390: 0.0, 198: 0.0, 391: 0.0, 392: 0.0, 393: 0.0, 394: 0.0, 395: 0.0, 396: 0.0, 397: 0.0, 398: 0.0, 399: 0.0, 400: 0.0, 401: 0.0, 402: 0.0, 403: 0.0, 404: 0.0, 405: 0.0, 406: 0.0, 407: 0.0, 408: 0.0, 409: 0.0, 410: 0.0, 411: 0.0, 412: 0.0, 413: 0.0, 414: 0.0, 415: 0.0, 416: 0.0, 417: 0.0, 418: 0.0, 419: 0.0, 420: 0.0, 421: 0.0, 422: 0.0, 423: 0.0, 424: 0.0, 425: 0.0, 426: 0.0, 427: 0.0, 428: 0.0, 429: 0.0, 430: 0.0, 431: 0.0, 432: 0.0, 433: 0.0, 434: 0.0, 435: 0.0, 436: 0.0, 437: 0.0, 438: 0.0, 439: 0.0, 440: 0.0, 441: 0.0, 442: 0.0, 443: 0.0, 444: 0.0, 445: 0.0, 446: 0.0, 447: 0.0, 448: 0.0, 449: 0.0, 450: 0.0, 451: 0.0, 452: 0.0, 453: 0.0, 454: 0.0, 455: 0.0, 456: 0.0, 457: 0.0, 458: 0.0, 459: 0.0, 460: 0.0, 461: 0.0, 462: 0.0, 463: 0.0, 464: 0.0, 465: 0.0, 466: 0.0, 467: 0.0, 468: 0.0, 469: 0.0, 470: 0.0, 471: 0.0, 472: 0.0, 473: 0.0, 474: 0.0, 475: 0.0, 476: 0.0, 477: 0.0, 478: 0.0, 479: 0.0, 480: 0.0, 481: 0.0, 482: 0.0, 483: 0.0, 484: 0.0, 485: 0.0, 486: 0.0, 487: 0.0, 488: 0.0, 489: 0.0, 490: 0.0, 491: 0.0, 492: 0.0, 493: 0.0, 494: 0.0, 495: 0.0, 496: 0.0, 79312312: 0.0019538472737074507, 20079982: 0.003069610990292193, 191477840: 0.0001928177987951081, 18953259: 0.012571209773972332, 60923426: 0.005140414741965232, 19982092: 0.015100457327647752, 357032926: 6.702685361421545e-05, 169443767: 0.0004528614742683497, 44874400: 0.0044618837187191986, 20591788: 0.00323808204705239, 202680748: 0.0010921061299417048, 44101412: 0.0031323514442848383, 113126125: 0.001428509485044592, 33174013: 0.0023474644520623347, 19586880: 0.0005153481099591354, 39348085: 0.0023697410042133947, 21447363: 0.011862522812557194, 7846: 0.024692033626547413, 215952307: 0.007154719671228901, 78129590: 0.00014273993022866454, 181750109: 0.0002813031420356657, 297074078: 8.938101627334918e-05, 30104231: 0.0007705383596430472, 30025965: 0.001570499947225064, 52613032: 0.003917405747179864, 267098336: 0.0040125410749983674, 7861312: 0.0038587938066635594, 12152402: 0.0029311318555668925, 20279424: 0.003334545482712285, 68606521: 0.0011912453782797795, 19818494: 0.009834011948393626, 24737621: 0.0005022962137482685, 17350250: 0.0016596617543374857, 107556834: 0.0023526144664101664, 90420314: 0.014934598156634607, 7111412: 0.009513905985014217, 108657758: 0.0, 48460288: 0.003313759411320387, 276963941: 0.0, 20039230: 0.007788502400827238, 30231735: 0.0025580735780606594, 26465656: 0.0031410159093161077, 20230544: 0.0022257186274518524, 19970709: 0.0010763487860655074, 34747631: 0.009375548186881768, 20137301: 0.0007356898416675209, 66561957: 0.013855114680247747, 6353802: 0.00023993105256249657, 95233955: 0.0006999927568120866, 23873876: 0.0001189067910371305, 203694329: 0.0, 413487212: 0.0008190734729212895, 20083529: 0.0011478182463171508, 22800874: 5.090722054794847e-05, 17753033: 0.009400198002641661, 18963070: 0.002664410570620526, 6054912: 0.004054020786990536, 278556009: 0.0, 219208124: 0.011248897216618717, 53297035: 0.0024448637012184572, 142157505: 0.003888690564880984, 19702854: 0.0012923000379774922, 27825390: 0.0009073497905449008, 20344826: 0.0016513276419516264, 31123109: 0.00041755151551636966, 14202104: 0.008086514639348322, 24083901: 0.006452801305261082, 19129073: 0.0032320531411815616, 17020962: 0.01128802460555194, 19337423: 0.0, 135281645: 0.0017433339183787256, 51171395: 1.5837820715869496e-05, 15294801: 0.00037763333752376083, 151232686: 0.0006694483524325903, 172814159: 0.00017453658204585903, 24737926: 0.004863247813969324, 20015311: 0.009268754776082667, 43289545: 0.0001827181943094679, 30614676: 0.0006944970240623244, 407977463: 0.0012292566206441235, 19364873: 3.5331635244246146e-05, 64496398: 0.010596219309022617, 19524590: 0.00012709096746142963, 19795629: 0.0014177756765939777, 78207918: 0.00013205128429796204, 20136458: 0.001063740958248974, 18331980: 1.4583903102874224e-05, 19233002: 0.02007201952789304, 27998216: 0.00025110147956608145, 19957312: 8.213177168482928e-05, 25066470: 0.010328126508054088, 367284950: 5.225262441873904e-05, 27816957: 0.0, 14100010: 0.004341472922280324, 18265433: 0.0005126410262582957, 113134752: 0.00014199886725034923, 117848769: 0.0005507078235858229, 19095849: 0.004184789939139558, 160143038: 0.013084476499110646, 40196232: 0.019885791829903493, 20138935: 0.0003130035477010217, 1715051: 0.0062626460923099975, 6368672: 0.0, 403383741: 0.0, 42861755: 0.003360764642470741, 145852539: 0.0, 390611178: 0.0, 16464746: 0.0003927387502224607, 18980276: 0.001560441917546542, 199009284: 0.0, 352226135: 5.933873052190896e-05, 388212339: 0.0008982359071423801, 15670515: 0.0036567141400973275, 19718832: 0.0, 16855106: 3.616722765579648e-06, 280495347: 0.0, 58746259: 0.003313759411320387, 8115852: 0.0, 194677810: 8.39746347905391e-05, 138114621: 0.0018665122960501283, 538245048: 0.0, 20777047: 0.0004463805204342955, 20359781: 1.7413867588083617e-05, 17836026: 0.0013161123591545593, 333449324: 3.92788874035031e-06, 427699604: 0.0, 1976611: 0.0, 289759808: 0.0, 21966989: 0.0, 23654341: 0.0009590907004452121, 23771106: 7.804116353584222e-05, 268806872: 0.0, 35756647: 0.0, 353466012: 0.0, 253089222: 1.5862701751908822e-05, 534026234: 0.0, 270106571: 0.0, 41213678: 0.0}\n",
            "Page rank value:  {349: 0.0016393543709945393, 350: 0.0016393543709945393, 351: 0.0016393543709945393, 352: 0.0016393543709945393, 353: 0.0016393543709945393, 354: 0.0016393543709945393, 355: 0.0016393543709945393, 356: 0.0016393543709945393, 357: 0.0016393543709945393, 358: 0.0016393543709945393, 359: 0.0016393543709945393, 360: 0.0016393543709945393, 361: 0.0016393543709945393, 362: 0.0016393543709945393, 363: 0.0016393543709945393, 364: 0.0016393543709945393, 365: 0.0016393543709945393, 366: 0.0016393543709945393, 367: 0.0016393543709945393, 368: 0.0016393543709945393, 369: 0.0016393543709945393, 370: 0.0016393543709945393, 371: 0.0016393543709945393, 372: 0.0016393543709945393, 373: 0.0016393543709945393, 34: 0.0016393543709945393, 374: 0.0016393543709945393, 375: 0.0016393543709945393, 376: 0.0016393543709945393, 377: 0.0016393543709945393, 378: 0.0016393543709945393, 379: 0.0016393543709945393, 380: 0.0016393543709945393, 381: 0.0016393543709945393, 382: 0.0016393543709945393, 383: 0.0016393543709945393, 384: 0.0016393543709945393, 385: 0.0016393543709945393, 386: 0.0016393543709945393, 387: 0.0016393543709945393, 388: 0.0016393543709945393, 389: 0.0016393543709945393, 390: 0.0016393543709945393, 198: 0.0016393543709945393, 391: 0.0016393543709945393, 392: 0.0016393543709945393, 393: 0.0016393543709945393, 394: 0.0016393543709945393, 395: 0.0016393543709945393, 396: 0.0016393543709945393, 397: 0.0016393543709945393, 398: 0.0016393543709945393, 399: 0.0016393543709945393, 400: 0.0016393543709945393, 401: 0.0016393543709945393, 402: 0.0016393543709945393, 403: 0.0016393543709945393, 404: 0.0016393543709945393, 405: 0.0016393543709945393, 406: 0.0016393543709945393, 407: 0.0016393543709945393, 408: 0.0016393543709945393, 409: 0.0016393543709945393, 410: 0.0016393543709945393, 411: 0.0016393543709945393, 412: 0.0016393543709945393, 413: 0.0016393543709945393, 414: 0.0016393543709945393, 415: 0.0016393543709945393, 416: 0.0016393543709945393, 417: 0.0016393543709945393, 418: 0.0016393543709945393, 419: 0.0016393543709945393, 420: 0.0016393543709945393, 421: 0.0016393543709945393, 422: 0.0016393543709945393, 423: 0.0016393543709945393, 424: 0.0016393543709945393, 425: 0.0016393543709945393, 426: 0.0016393543709945393, 427: 0.0016393543709945393, 428: 0.0016393543709945393, 429: 0.0016393543709945393, 430: 0.0016393543709945393, 431: 0.0016393543709945393, 432: 0.0016393543709945393, 433: 0.0016393543709945393, 434: 0.0016393543709945393, 435: 0.0016393543709945393, 436: 0.0016393543709945393, 437: 0.0016393543709945393, 438: 0.0016393543709945393, 439: 0.0016393543709945393, 440: 0.0016393543709945393, 441: 0.0016393543709945393, 442: 0.0016393543709945393, 443: 0.0016393543709945393, 444: 0.0016393543709945393, 445: 0.0016393543709945393, 446: 0.0016393543709945393, 447: 0.0016393543709945393, 448: 0.0016393543709945393, 449: 0.0016393543709945393, 450: 0.0016393543709945393, 451: 0.0016393543709945393, 452: 0.0016393543709945393, 453: 0.0016393543709945393, 454: 0.0016393543709945393, 455: 0.0016393543709945393, 456: 0.0016393543709945393, 457: 0.0016393543709945393, 458: 0.0016393543709945393, 459: 0.0016393543709945393, 460: 0.0016393543709945393, 461: 0.0016393543709945393, 462: 0.0016393543709945393, 463: 0.0016393543709945393, 464: 0.0016393543709945393, 465: 0.0016393543709945393, 466: 0.0016393543709945393, 467: 0.0016393543709945393, 468: 0.0016393543709945393, 469: 0.0016393543709945393, 470: 0.0016393543709945393, 471: 0.0016393543709945393, 472: 0.0016393543709945393, 473: 0.0016393543709945393, 474: 0.0016393543709945393, 475: 0.0016393543709945393, 476: 0.0016393543709945393, 477: 0.0016393543709945393, 478: 0.0016393543709945393, 479: 0.0016393543709945393, 480: 0.0016393543709945393, 481: 0.0016393543709945393, 482: 0.0016393543709945393, 483: 0.0016393543709945393, 484: 0.0016393543709945393, 485: 0.0016393543709945393, 486: 0.0016393543709945393, 487: 0.0016393543709945393, 488: 0.0016393543709945393, 489: 0.0016393543709945393, 490: 0.0016393543709945393, 491: 0.0016393543709945393, 492: 0.0016393543709945393, 493: 0.0016393543709945393, 494: 0.0016393543709945393, 495: 0.0016393543709945393, 496: 0.0016393543709945393, 79312312: 0.006739772235251256, 20079982: 0.009253700302247765, 191477840: 0.003767027140372278, 18953259: 0.011670662850890447, 60923426: 0.008528859754866456, 19982092: 0.012559834428535616, 357032926: 0.003685641655931978, 169443767: 0.0052570048244141455, 44874400: 0.007162893858073612, 20591788: 0.005598989989418594, 202680748: 0.004948265552345742, 44101412: 0.009258105869106142, 113126125: 0.008402856571370526, 33174013: 0.008826212312908381, 19586880: 0.006138049633236026, 39348085: 0.008329499366602551, 21447363: 0.00973044948709931, 7846: 0.012267908369288153, 215952307: 0.00967269338446336, 78129590: 0.005169028882563946, 181750109: 0.003709736581985236, 297074078: 0.0035046874821414433, 30104231: 0.003707646131544246, 30025965: 0.005099690787576888, 52613032: 0.005450349582478857, 267098336: 0.005997826140233564, 7861312: 0.0070081928442449915, 12152402: 0.008159432294900393, 20279424: 0.004224901896721733, 68606521: 0.005231501543560014, 19818494: 0.011817318868819985, 24737621: 0.004573510747354931, 17350250: 0.004798709428473916, 107556834: 0.00622962158036211, 90420314: 0.009071150512734598, 7111412: 0.009644762305585976, 108657758: 0.003767733321019185, 48460288: 0.00525884048772454, 276963941: 0.0021646157922352027, 20039230: 0.007846982478998454, 30231735: 0.005831473310632256, 26465656: 0.00599670432941141, 20230544: 0.006695549839318521, 19970709: 0.006549464082767024, 34747631: 0.00969534016493112, 20137301: 0.00703348817679398, 66561957: 0.009256778989825055, 6353802: 0.0041043253026116526, 95233955: 0.0038325417014048115, 23873876: 0.004415541695629602, 203694329: 0.003691253609446492, 413487212: 0.004907713278509154, 20083529: 0.007543600677320617, 22800874: 0.003204417593525034, 17753033: 0.010237336862894464, 18963070: 0.006581183893734285, 6054912: 0.007049344849925103, 278556009: 0.003767733321019185, 219208124: 0.007946648105848837, 53297035: 0.006176466673840485, 142157505: 0.005839618430592358, 19702854: 0.008376815964057443, 27825390: 0.004980409795386888, 20344826: 0.004945205367369334, 31123109: 0.003925835283943165, 14202104: 0.006241712603242326, 24083901: 0.008025409081728361, 19129073: 0.005719307484579033, 17020962: 0.011295420395994862, 19337423: 0.0023211949732836867, 135281645: 0.0031266353272947738, 51171395: 0.004147381246746202, 15294801: 0.004515671035776612, 151232686: 0.0032533907760867575, 172814159: 0.004425635725355735, 24737926: 0.007104294747800471, 20015311: 0.007696962742932906, 43289545: 0.003631689722449667, 30614676: 0.004373623674612791, 407977463: 0.005237848227129586, 19364873: 0.002769257399135447, 64496398: 0.007748931060953819, 19524590: 0.0046076832927502195, 19795629: 0.006246636310600363, 78207918: 0.0038019557526768892, 20136458: 0.007968285668019348, 18331980: 0.004062835886670572, 19233002: 0.011561552375967248, 27998216: 0.0036283505937122467, 19957312: 0.004897591501257175, 25066470: 0.009559804817246222, 367284950: 0.0024624776677983264, 27816957: 0.0028172887735312285, 14100010: 0.009071424900678665, 18265433: 0.005991497631335297, 113134752: 0.0035823572153310316, 117848769: 0.0050330121725122474, 19095849: 0.00770818811459913, 160143038: 0.008684013786471345, 40196232: 0.007089285806857318, 20138935: 0.005816995203219518, 1715051: 0.007409118554010444, 6368672: 0.0019630709405377804, 403383741: 0.0026535029244128317, 42861755: 0.004345246266701597, 145852539: 0.003691253609446492, 390611178: 0.0022342373743266556, 16464746: 0.0027127472308947206, 18980276: 0.004921819327259852, 199009284: 0.002466481004412939, 352226135: 0.0037824848057158166, 388212339: 0.0034517253853266513, 15670515: 0.0056782002967581645, 19718832: 0.002233976815604014, 16855106: 0.0021357322780592505, 280495347: 0.003497143763048986, 58746259: 0.005307681357326904, 8115852: 0.003588060917188566, 194677810: 0.003725763363358984, 138114621: 0.0044925169501871315, 538245048: 0.0028567324224323806, 20777047: 0.003898144727584887, 20359781: 0.0024588334659163937, 17836026: 0.0039368462806950045, 333449324: 0.003269746798213766, 427699604: 0.0035415472753549766, 1976611: 0.0027315271601608205, 289759808: 0.0018915944702348642, 21966989: 0.0025809482638426747, 23654341: 0.004055366562891099, 23771106: 0.0029524594750421533, 268806872: 0.0028567324224323806, 35756647: 0.002484747656378004, 353466012: 0.0023019837847223093, 253089222: 0.0027698013186708533, 534026234: 0.0019630709405377804, 270106571: 0.0022529459977508994, 41213678: 0.0019579898886217164}\n"
          ]
        },
        {
          "data": {
            "text/plain": [
              "<matplotlib.legend.Legend at 0x7f5aed6787d0>"
            ]
          },
          "execution_count": 63,
          "metadata": {},
          "output_type": "execute_result"
        },
        {
          "data": {
            "image/png": "[encoded data removed]",
            "text/plain": [
              "<Figure size 1728x432 with 2 Axes>"
            ]
          },
          "metadata": {
            "needs_background": "light"
          },
          "output_type": "display_data"
        }
      ],
      "source": [
        "# use the Facebook_Ego dataset\n",
        "bc_FE =nx.betweenness_centrality(FE_G)\n",
        "ppr_FE = nx.pagerank(FE_G,alpha=0.7)\n",
        "print(\"betweenness closeness: \",  bc_FE)\n",
        "print(\"Page rank value: \",  ppr_FE)\n",
        "\n",
        "BC_V = bc_FE.items() \n",
        "BC_V = sorted(BC_V) # sorted by the nodes\n",
        "x1, y1 = zip(*BC_V)\n",
        "\n",
        "PPR_V = ppr_FE.items()\n",
        "PPR_V = sorted(PPR_V)\n",
        "x2, y2 = zip(*PPR_V)\n",
        "\n",
        "diff = ppr_FE.items()- bc_FE.items() \n",
        "diff  = sorted(diff )\n",
        "x3, y3 = zip(*diff)\n",
        "\n",
        "fig, (ax1, ax2) = plt.subplots(ncols=2, figsize=(24, 6))\n",
        "\n",
        "ax1.scatter(x1,y1,label='betweenness closeness', s=10)\n",
        "ax1.scatter(x2,y2,label='Page rank value',s=10)\n",
        "ax1.set_xlabel('Nodes')\n",
        "ax1.set_ylabel('Value')\n",
        "ax1.set_title('Betweenness closeness and PageRank of the Facebook-Ego dataset')\n",
        "ax1.legend()\n",
        "\n",
        "# plot the difference vlaue between the \"betweenness closeness\" and \"PageRank\" of the same node\n",
        "ax2.scatter(x3,y3,label='difference value')\n",
        "ax2.set_xlabel('Nodes')\n",
        "ax2.set_ylabel('Diff Value')\n",
        "ax2.set_title('Difference of betweenness closeness and PageRank of the Facebook-Ego dataset')\n",
        "ax2.legend()"
      ]
    },
    {
      "cell_type": "markdown",
      "metadata": {
        "id": "YOS8iZeEuemN"
      },
      "source": [
        "4(b) Please compare the results in (a). What cause the difference between the results?"
      ]
    },
    {
      "cell_type": "markdown",
      "metadata": {
        "id": "RHReWubombsJ"
      },
      "source": [
        "▸** Answer:** As shown from the figure 2 in (a): the difference values between the \"betweenness closeness\" and \"PageRank\" of the same nodes in the Twitter-Ego dataset, we can see that these 2 results for same nodes are completely different in the Twitter-Ego dataset. The reason for the difference of the results is because the \"betweenness closeness\" and \"PageRank\" are different properties of the graph. The \"betweenness closeness\" is to measure how much the node plays the role of a bridge based on shortest paths, and the \"PageRank\" is to measure the importance of each node within the graph, based on the number incoming relationships and the importance of the corresponding source nodes. "
      ]
    },
    {
      "cell_type": "markdown",
      "metadata": {
        "id": "wk1Rn52Ak_9-"
      },
      "source": [
        "4(c) Please plot the largest strong connected component in the Twitter-Ego dataset.\n"
      ]
    },
    {
      "cell_type": "code",
      "execution_count": null,
      "metadata": {
        "colab": {
          "base_uri": "https://localhost:8080/",
          "height": 265
        },
        "id": "bLU1azB7lWle",
        "outputId": "4989df69-33f7-485b-ee82-4c0bfabbc4c7"
      },
      "outputs": [
        {
          "name": "stdout",
          "output_type": "stream",
          "text": [
            "The largest strongly connected component in the directed network (Twitter-Ego dataset) is DiGraph with 108 nodes and 951 edges\n"
          ]
        },
        {
          "data": {
            "image/png": "[encoded data removed]",
            "text/plain": [
              "<Figure size 432x288 with 1 Axes>"
            ]
          },
          "metadata": {},
          "output_type": "display_data"
        }
      ],
      "source": [
        "#strongly connnected components in the network (Twitter-Ego dataset) \n",
        "[TE_G.add_edge(n1, n2) for n1, n2 in zip(TE_edges['Node1'], TE_edges['Node2'])]\n",
        "largest_strong_components=max(nx.strongly_connected_components(TE_G),key=len) \n",
        "gs = TE_G.subgraph(largest_strong_components)\n",
        "print('The largest strongly connected component in the directed network (Twitter-Ego dataset) is',gs)\n",
        "nx.draw_networkx(gs, with_labels = False, node_size = 50)"
      ]
    },
    {
      "cell_type": "markdown",
      "metadata": {
        "id": "iCgFperOwDpR"
      },
      "source": [
        "4(d) Choose the results of one of the two algorithms mentioned in question (a), and choose the node\n",
        "with the highest value and the node with lowest value. Please plot the distributions of Jaccard\n",
        "similarity, cosine similarity and normalized Euclidean distance between either of the two nodes\n",
        "and the rest of the nodes in the graph."
      ]
    },
    {
      "cell_type": "code",
      "execution_count": 65,
      "metadata": {
        "colab": {
          "base_uri": "https://localhost:8080/"
        },
        "id": "X1z0Wh84w1Yy",
        "outputId": "e0a2aacf-1d4b-4ea4-9cb6-5cbd9d3d6c8d"
      },
      "outputs": [
        {
          "name": "stdout",
          "output_type": "stream",
          "text": [
            "[(349, 0.0016393543709945393), (350, 0.0016393543709945393), (351, 0.0016393543709945393), (352, 0.0016393543709945393), (353, 0.0016393543709945393), (354, 0.0016393543709945393), (355, 0.0016393543709945393), (356, 0.0016393543709945393), (357, 0.0016393543709945393), (358, 0.0016393543709945393), (359, 0.0016393543709945393), (360, 0.0016393543709945393), (361, 0.0016393543709945393), (362, 0.0016393543709945393), (363, 0.0016393543709945393), (364, 0.0016393543709945393), (365, 0.0016393543709945393), (366, 0.0016393543709945393), (367, 0.0016393543709945393), (368, 0.0016393543709945393), (369, 0.0016393543709945393), (370, 0.0016393543709945393), (371, 0.0016393543709945393), (372, 0.0016393543709945393), (373, 0.0016393543709945393), (34, 0.0016393543709945393), (374, 0.0016393543709945393), (375, 0.0016393543709945393), (376, 0.0016393543709945393), (377, 0.0016393543709945393), (378, 0.0016393543709945393), (379, 0.0016393543709945393), (380, 0.0016393543709945393), (381, 0.0016393543709945393), (382, 0.0016393543709945393), (383, 0.0016393543709945393), (384, 0.0016393543709945393), (385, 0.0016393543709945393), (386, 0.0016393543709945393), (387, 0.0016393543709945393), (388, 0.0016393543709945393), (389, 0.0016393543709945393), (390, 0.0016393543709945393), (198, 0.0016393543709945393), (391, 0.0016393543709945393), (392, 0.0016393543709945393), (393, 0.0016393543709945393), (394, 0.0016393543709945393), (395, 0.0016393543709945393), (396, 0.0016393543709945393), (397, 0.0016393543709945393), (398, 0.0016393543709945393), (399, 0.0016393543709945393), (400, 0.0016393543709945393), (401, 0.0016393543709945393), (402, 0.0016393543709945393), (403, 0.0016393543709945393), (404, 0.0016393543709945393), (405, 0.0016393543709945393), (406, 0.0016393543709945393), (407, 0.0016393543709945393), (408, 0.0016393543709945393), (409, 0.0016393543709945393), (410, 0.0016393543709945393), (411, 0.0016393543709945393), (412, 0.0016393543709945393), (413, 0.0016393543709945393), (414, 0.0016393543709945393), (415, 0.0016393543709945393), (416, 0.0016393543709945393), (417, 0.0016393543709945393), (418, 0.0016393543709945393), (419, 0.0016393543709945393), (420, 0.0016393543709945393), (421, 0.0016393543709945393), (422, 0.0016393543709945393), (423, 0.0016393543709945393), (424, 0.0016393543709945393), (425, 0.0016393543709945393), (426, 0.0016393543709945393), (427, 0.0016393543709945393), (428, 0.0016393543709945393), (429, 0.0016393543709945393), (430, 0.0016393543709945393), (431, 0.0016393543709945393), (432, 0.0016393543709945393), (433, 0.0016393543709945393), (434, 0.0016393543709945393), (435, 0.0016393543709945393), (436, 0.0016393543709945393), (437, 0.0016393543709945393), (438, 0.0016393543709945393), (439, 0.0016393543709945393), (440, 0.0016393543709945393), (441, 0.0016393543709945393), (442, 0.0016393543709945393), (443, 0.0016393543709945393), (444, 0.0016393543709945393), (445, 0.0016393543709945393), (446, 0.0016393543709945393), (447, 0.0016393543709945393), (448, 0.0016393543709945393), (449, 0.0016393543709945393), (450, 0.0016393543709945393), (451, 0.0016393543709945393), (452, 0.0016393543709945393), (453, 0.0016393543709945393), (454, 0.0016393543709945393), (455, 0.0016393543709945393), (456, 0.0016393543709945393), (457, 0.0016393543709945393), (458, 0.0016393543709945393), (459, 0.0016393543709945393), (460, 0.0016393543709945393), (461, 0.0016393543709945393), (462, 0.0016393543709945393), (463, 0.0016393543709945393), (464, 0.0016393543709945393), (465, 0.0016393543709945393), (466, 0.0016393543709945393), (467, 0.0016393543709945393), (468, 0.0016393543709945393), (469, 0.0016393543709945393), (470, 0.0016393543709945393), (471, 0.0016393543709945393), (472, 0.0016393543709945393), (473, 0.0016393543709945393), (474, 0.0016393543709945393), (475, 0.0016393543709945393), (476, 0.0016393543709945393), (477, 0.0016393543709945393), (478, 0.0016393543709945393), (479, 0.0016393543709945393), (480, 0.0016393543709945393), (481, 0.0016393543709945393), (482, 0.0016393543709945393), (483, 0.0016393543709945393), (484, 0.0016393543709945393), (485, 0.0016393543709945393), (486, 0.0016393543709945393), (487, 0.0016393543709945393), (488, 0.0016393543709945393), (489, 0.0016393543709945393), (490, 0.0016393543709945393), (491, 0.0016393543709945393), (492, 0.0016393543709945393), (493, 0.0016393543709945393), (494, 0.0016393543709945393), (495, 0.0016393543709945393), (496, 0.0016393543709945393), (289759808, 0.0018915944702348642), (41213678, 0.0019579898886217164), (6368672, 0.0019630709405377804), (534026234, 0.0019630709405377804), (16855106, 0.0021357322780592505), (276963941, 0.0021646157922352027), (19718832, 0.002233976815604014), (390611178, 0.0022342373743266556), (270106571, 0.0022529459977508994), (353466012, 0.0023019837847223093), (19337423, 0.0023211949732836867), (20359781, 0.0024588334659163937), (367284950, 0.0024624776677983264), (199009284, 0.002466481004412939), (35756647, 0.002484747656378004), (21966989, 0.0025809482638426747), (403383741, 0.0026535029244128317), (16464746, 0.0027127472308947206), (1976611, 0.0027315271601608205), (19364873, 0.002769257399135447), (253089222, 0.0027698013186708533), (27816957, 0.0028172887735312285), (538245048, 0.0028567324224323806), (268806872, 0.0028567324224323806), (23771106, 0.0029524594750421533), (135281645, 0.0031266353272947738), (22800874, 0.003204417593525034), (151232686, 0.0032533907760867575), (333449324, 0.003269746798213766), (388212339, 0.0034517253853266513), (280495347, 0.003497143763048986), (297074078, 0.0035046874821414433), (427699604, 0.0035415472753549766), (113134752, 0.0035823572153310316), (8115852, 0.003588060917188566), (27998216, 0.0036283505937122467), (43289545, 0.003631689722449667), (357032926, 0.003685641655931978), (203694329, 0.003691253609446492), (145852539, 0.003691253609446492), (30104231, 0.003707646131544246), (181750109, 0.003709736581985236), (194677810, 0.003725763363358984), (191477840, 0.003767027140372278), (108657758, 0.003767733321019185), (278556009, 0.003767733321019185), (352226135, 0.0037824848057158166), (78207918, 0.0038019557526768892), (95233955, 0.0038325417014048115), (20777047, 0.003898144727584887), (31123109, 0.003925835283943165), (17836026, 0.0039368462806950045), (23654341, 0.004055366562891099), (18331980, 0.004062835886670572), (6353802, 0.0041043253026116526), (51171395, 0.004147381246746202), (20279424, 0.004224901896721733), (42861755, 0.004345246266701597), (30614676, 0.004373623674612791), (23873876, 0.004415541695629602), (172814159, 0.004425635725355735), (138114621, 0.0044925169501871315), (15294801, 0.004515671035776612), (24737621, 0.004573510747354931), (19524590, 0.0046076832927502195), (17350250, 0.004798709428473916), (19957312, 0.004897591501257175), (413487212, 0.004907713278509154), (18980276, 0.004921819327259852), (20344826, 0.004945205367369334), (202680748, 0.004948265552345742), (27825390, 0.004980409795386888), (117848769, 0.0050330121725122474), (30025965, 0.005099690787576888), (78129590, 0.005169028882563946), (68606521, 0.005231501543560014), (407977463, 0.005237848227129586), (169443767, 0.0052570048244141455), (48460288, 0.00525884048772454), (58746259, 0.005307681357326904), (52613032, 0.005450349582478857), (20591788, 0.005598989989418594), (15670515, 0.0056782002967581645), (19129073, 0.005719307484579033), (20138935, 0.005816995203219518), (30231735, 0.005831473310632256), (142157505, 0.005839618430592358), (18265433, 0.005991497631335297), (26465656, 0.00599670432941141), (267098336, 0.005997826140233564), (19586880, 0.006138049633236026), (53297035, 0.006176466673840485), (107556834, 0.00622962158036211), (14202104, 0.006241712603242326), (19795629, 0.006246636310600363), (19970709, 0.006549464082767024), (18963070, 0.006581183893734285), (20230544, 0.006695549839318521), (79312312, 0.006739772235251256), (7861312, 0.0070081928442449915), (20137301, 0.00703348817679398), (6054912, 0.007049344849925103), (40196232, 0.007089285806857318), (24737926, 0.007104294747800471), (44874400, 0.007162893858073612), (1715051, 0.007409118554010444), (20083529, 0.007543600677320617), (20015311, 0.007696962742932906), (19095849, 0.00770818811459913), (64496398, 0.007748931060953819), (20039230, 0.007846982478998454), (219208124, 0.007946648105848837), (20136458, 0.007968285668019348), (24083901, 0.008025409081728361), (12152402, 0.008159432294900393), (39348085, 0.008329499366602551), (19702854, 0.008376815964057443), (113126125, 0.008402856571370526), (60923426, 0.008528859754866456), (160143038, 0.008684013786471345), (33174013, 0.008826212312908381), (90420314, 0.009071150512734598), (14100010, 0.009071424900678665), (20079982, 0.009253700302247765), (66561957, 0.009256778989825055), (44101412, 0.009258105869106142), (25066470, 0.009559804817246222), (7111412, 0.009644762305585976), (215952307, 0.00967269338446336), (34747631, 0.00969534016493112), (21447363, 0.00973044948709931), (17753033, 0.010237336862894464), (17020962, 0.011295420395994862), (19233002, 0.011561552375967248), (18953259, 0.011670662850890447), (19818494, 0.011817318868819985), (7846, 0.012267908369288153), (19982092, 0.012559834428535616)]\n",
            "node 19982092 with the highest PageRank value 0.012559834428535616\n",
            "node  349 with the lowest PageRank value 0.0016393543709945393\n",
            "node  350 with the lowest PageRank value 0.0016393543709945393\n",
            "node  351 with the lowest PageRank value 0.0016393543709945393\n",
            "node  352 with the lowest PageRank value 0.0016393543709945393\n",
            "node  353 with the lowest PageRank value 0.0016393543709945393\n",
            "node  354 with the lowest PageRank value 0.0016393543709945393\n",
            "node  355 with the lowest PageRank value 0.0016393543709945393\n",
            "node  356 with the lowest PageRank value 0.0016393543709945393\n",
            "node  357 with the lowest PageRank value 0.0016393543709945393\n",
            "node  358 with the lowest PageRank value 0.0016393543709945393\n",
            "node  359 with the lowest PageRank value 0.0016393543709945393\n",
            "node  360 with the lowest PageRank value 0.0016393543709945393\n",
            "node  361 with the lowest PageRank value 0.0016393543709945393\n",
            "node  362 with the lowest PageRank value 0.0016393543709945393\n",
            "node  363 with the lowest PageRank value 0.0016393543709945393\n",
            "node  364 with the lowest PageRank value 0.0016393543709945393\n",
            "node  365 with the lowest PageRank value 0.0016393543709945393\n",
            "node  366 with the lowest PageRank value 0.0016393543709945393\n",
            "node  367 with the lowest PageRank value 0.0016393543709945393\n",
            "node  368 with the lowest PageRank value 0.0016393543709945393\n",
            "node  369 with the lowest PageRank value 0.0016393543709945393\n",
            "node  370 with the lowest PageRank value 0.0016393543709945393\n",
            "node  371 with the lowest PageRank value 0.0016393543709945393\n",
            "node  372 with the lowest PageRank value 0.0016393543709945393\n",
            "node  373 with the lowest PageRank value 0.0016393543709945393\n",
            "node  34 with the lowest PageRank value 0.0016393543709945393\n",
            "node  374 with the lowest PageRank value 0.0016393543709945393\n",
            "node  375 with the lowest PageRank value 0.0016393543709945393\n",
            "node  376 with the lowest PageRank value 0.0016393543709945393\n",
            "node  377 with the lowest PageRank value 0.0016393543709945393\n",
            "node  378 with the lowest PageRank value 0.0016393543709945393\n",
            "node  379 with the lowest PageRank value 0.0016393543709945393\n",
            "node  380 with the lowest PageRank value 0.0016393543709945393\n",
            "node  381 with the lowest PageRank value 0.0016393543709945393\n",
            "node  382 with the lowest PageRank value 0.0016393543709945393\n",
            "node  383 with the lowest PageRank value 0.0016393543709945393\n",
            "node  384 with the lowest PageRank value 0.0016393543709945393\n",
            "node  385 with the lowest PageRank value 0.0016393543709945393\n",
            "node  386 with the lowest PageRank value 0.0016393543709945393\n",
            "node  387 with the lowest PageRank value 0.0016393543709945393\n",
            "node  388 with the lowest PageRank value 0.0016393543709945393\n",
            "node  389 with the lowest PageRank value 0.0016393543709945393\n",
            "node  390 with the lowest PageRank value 0.0016393543709945393\n",
            "node  198 with the lowest PageRank value 0.0016393543709945393\n",
            "node  391 with the lowest PageRank value 0.0016393543709945393\n",
            "node  392 with the lowest PageRank value 0.0016393543709945393\n",
            "node  393 with the lowest PageRank value 0.0016393543709945393\n",
            "node  394 with the lowest PageRank value 0.0016393543709945393\n",
            "node  395 with the lowest PageRank value 0.0016393543709945393\n",
            "node  396 with the lowest PageRank value 0.0016393543709945393\n",
            "node  397 with the lowest PageRank value 0.0016393543709945393\n",
            "node  398 with the lowest PageRank value 0.0016393543709945393\n",
            "node  399 with the lowest PageRank value 0.0016393543709945393\n",
            "node  400 with the lowest PageRank value 0.0016393543709945393\n",
            "node  401 with the lowest PageRank value 0.0016393543709945393\n",
            "node  402 with the lowest PageRank value 0.0016393543709945393\n",
            "node  403 with the lowest PageRank value 0.0016393543709945393\n",
            "node  404 with the lowest PageRank value 0.0016393543709945393\n",
            "node  405 with the lowest PageRank value 0.0016393543709945393\n",
            "node  406 with the lowest PageRank value 0.0016393543709945393\n",
            "node  407 with the lowest PageRank value 0.0016393543709945393\n",
            "node  408 with the lowest PageRank value 0.0016393543709945393\n",
            "node  409 with the lowest PageRank value 0.0016393543709945393\n",
            "node  410 with the lowest PageRank value 0.0016393543709945393\n",
            "node  411 with the lowest PageRank value 0.0016393543709945393\n",
            "node  412 with the lowest PageRank value 0.0016393543709945393\n",
            "node  413 with the lowest PageRank value 0.0016393543709945393\n",
            "node  414 with the lowest PageRank value 0.0016393543709945393\n",
            "node  415 with the lowest PageRank value 0.0016393543709945393\n",
            "node  416 with the lowest PageRank value 0.0016393543709945393\n",
            "node  417 with the lowest PageRank value 0.0016393543709945393\n",
            "node  418 with the lowest PageRank value 0.0016393543709945393\n",
            "node  419 with the lowest PageRank value 0.0016393543709945393\n",
            "node  420 with the lowest PageRank value 0.0016393543709945393\n",
            "node  421 with the lowest PageRank value 0.0016393543709945393\n",
            "node  422 with the lowest PageRank value 0.0016393543709945393\n",
            "node  423 with the lowest PageRank value 0.0016393543709945393\n",
            "node  424 with the lowest PageRank value 0.0016393543709945393\n",
            "node  425 with the lowest PageRank value 0.0016393543709945393\n",
            "node  426 with the lowest PageRank value 0.0016393543709945393\n",
            "node  427 with the lowest PageRank value 0.0016393543709945393\n",
            "node  428 with the lowest PageRank value 0.0016393543709945393\n",
            "node  429 with the lowest PageRank value 0.0016393543709945393\n",
            "node  430 with the lowest PageRank value 0.0016393543709945393\n",
            "node  431 with the lowest PageRank value 0.0016393543709945393\n",
            "node  432 with the lowest PageRank value 0.0016393543709945393\n",
            "node  433 with the lowest PageRank value 0.0016393543709945393\n",
            "node  434 with the lowest PageRank value 0.0016393543709945393\n",
            "node  435 with the lowest PageRank value 0.0016393543709945393\n",
            "node  436 with the lowest PageRank value 0.0016393543709945393\n",
            "node  437 with the lowest PageRank value 0.0016393543709945393\n",
            "node  438 with the lowest PageRank value 0.0016393543709945393\n",
            "node  439 with the lowest PageRank value 0.0016393543709945393\n",
            "node  440 with the lowest PageRank value 0.0016393543709945393\n",
            "node  441 with the lowest PageRank value 0.0016393543709945393\n",
            "node  442 with the lowest PageRank value 0.0016393543709945393\n",
            "node  443 with the lowest PageRank value 0.0016393543709945393\n",
            "node  444 with the lowest PageRank value 0.0016393543709945393\n",
            "node  445 with the lowest PageRank value 0.0016393543709945393\n",
            "node  446 with the lowest PageRank value 0.0016393543709945393\n",
            "node  447 with the lowest PageRank value 0.0016393543709945393\n",
            "node  448 with the lowest PageRank value 0.0016393543709945393\n",
            "node  449 with the lowest PageRank value 0.0016393543709945393\n",
            "node  450 with the lowest PageRank value 0.0016393543709945393\n",
            "node  451 with the lowest PageRank value 0.0016393543709945393\n",
            "node  452 with the lowest PageRank value 0.0016393543709945393\n",
            "node  453 with the lowest PageRank value 0.0016393543709945393\n",
            "node  454 with the lowest PageRank value 0.0016393543709945393\n",
            "node  455 with the lowest PageRank value 0.0016393543709945393\n",
            "node  456 with the lowest PageRank value 0.0016393543709945393\n",
            "node  457 with the lowest PageRank value 0.0016393543709945393\n",
            "node  458 with the lowest PageRank value 0.0016393543709945393\n",
            "node  459 with the lowest PageRank value 0.0016393543709945393\n",
            "node  460 with the lowest PageRank value 0.0016393543709945393\n",
            "node  461 with the lowest PageRank value 0.0016393543709945393\n",
            "node  462 with the lowest PageRank value 0.0016393543709945393\n",
            "node  463 with the lowest PageRank value 0.0016393543709945393\n",
            "node  464 with the lowest PageRank value 0.0016393543709945393\n",
            "node  465 with the lowest PageRank value 0.0016393543709945393\n",
            "node  466 with the lowest PageRank value 0.0016393543709945393\n",
            "node  467 with the lowest PageRank value 0.0016393543709945393\n",
            "node  468 with the lowest PageRank value 0.0016393543709945393\n",
            "node  469 with the lowest PageRank value 0.0016393543709945393\n",
            "node  470 with the lowest PageRank value 0.0016393543709945393\n",
            "node  471 with the lowest PageRank value 0.0016393543709945393\n",
            "node  472 with the lowest PageRank value 0.0016393543709945393\n",
            "node  473 with the lowest PageRank value 0.0016393543709945393\n",
            "node  474 with the lowest PageRank value 0.0016393543709945393\n",
            "node  475 with the lowest PageRank value 0.0016393543709945393\n",
            "node  476 with the lowest PageRank value 0.0016393543709945393\n",
            "node  477 with the lowest PageRank value 0.0016393543709945393\n",
            "node  478 with the lowest PageRank value 0.0016393543709945393\n",
            "node  479 with the lowest PageRank value 0.0016393543709945393\n",
            "node  480 with the lowest PageRank value 0.0016393543709945393\n",
            "node  481 with the lowest PageRank value 0.0016393543709945393\n",
            "node  482 with the lowest PageRank value 0.0016393543709945393\n",
            "node  483 with the lowest PageRank value 0.0016393543709945393\n",
            "node  484 with the lowest PageRank value 0.0016393543709945393\n",
            "node  485 with the lowest PageRank value 0.0016393543709945393\n",
            "node  486 with the lowest PageRank value 0.0016393543709945393\n",
            "node  487 with the lowest PageRank value 0.0016393543709945393\n",
            "node  488 with the lowest PageRank value 0.0016393543709945393\n",
            "node  489 with the lowest PageRank value 0.0016393543709945393\n",
            "node  490 with the lowest PageRank value 0.0016393543709945393\n",
            "node  491 with the lowest PageRank value 0.0016393543709945393\n",
            "node  492 with the lowest PageRank value 0.0016393543709945393\n",
            "node  493 with the lowest PageRank value 0.0016393543709945393\n",
            "node  494 with the lowest PageRank value 0.0016393543709945393\n",
            "node  495 with the lowest PageRank value 0.0016393543709945393\n",
            "node  496 with the lowest PageRank value 0.0016393543709945393\n"
          ]
        }
      ],
      "source": [
        "PPR_S = sorted(ppr_FE.items(), key=lambda x: x[1]) # sorted by the PageRank value\n",
        "print(PPR_S)\n",
        "# the node with the highest PageRank value\n",
        "for key,value in ppr_FE.items():\n",
        "    if(value == max(ppr_FE.values())):\n",
        "        print ('node', key,'with the highest PageRank value', value)\n",
        "# the node with the lowest PageRank value\n",
        "for key,value in ppr_FE.items():\n",
        "    if(value == min(ppr_FE.values())):\n",
        "        print ('node ', key, 'with the lowest PageRank value', value)"
      ]
    },
    {
      "cell_type": "code",
      "execution_count": 95,
      "metadata": {
        "colab": {
          "base_uri": "https://localhost:8080/",
          "height": 351
        },
        "id": "BKUliNe_62w0",
        "outputId": "f2fa288e-2207-42a5-e621-f7bfa00dc4d4"
      },
      "outputs": [
        {
          "data": {
            "image/png": "[encoded data removed]",
            "text/plain": [
              "<Figure size 1728x432 with 2 Axes>"
            ]
          },
          "metadata": {
            "needs_background": "light"
          },
          "output_type": "display_data"
        }
      ],
      "source": [
        "# since there are a lot of nodes have the lowest PageRank value, so we choose node 19982092 with the highest PageRank value and node  349 with the lowest PageRank value\n",
        "\n",
        "##Jaccard similirity\n",
        "##(N(i)∩N(j))/(N(i)∩N(j))\n",
        "\n",
        "fig, (ax1, ax2) = plt.subplots(ncols=2, figsize=(24, 6)) \n",
        "\n",
        "JS_FE_H = []\n",
        "for i in FE_G.nodes:\n",
        "  jc = nx.jaccard_coefficient(FE_G, [(19982092, i)])\n",
        "  for u, v, p in jc:\n",
        "      JS_FE_H.append(p)\n",
        "ax1.hist(JS_FE_H, bins=40, color=\"blue\")\n",
        "ax1.set_xlabel('Jaccard similirity')\n",
        "ax1.set_ylabel('Number')\n",
        "ax1.set_title('distributions of Jaccard similarity between \\n the highest Pagerank value node 19982092 and the rest of the nodes in the graph')\n",
        "\n",
        "JS_FE_L = []\n",
        "for i in FE_G.nodes:\n",
        "  jc = nx.jaccard_coefficient(FE_G, [(349, i)])\n",
        "  for u, v, p in jc:\n",
        "      JS_FE_L.append(p)\n",
        "ax2.hist(JS_FE_L, bins=40, color=\"blue\")\n",
        "ax2.set_xlabel('Jaccard similirity')\n",
        "ax2.set_ylabel('Number')\n",
        "ax2.set_title('distributions of Jaccard similarity between \\n the lowest Pagerank value node 349 and the rest of the nodes in the graph')\n",
        "plt.show()"
      ]
    },
    {
      "cell_type": "code",
      "execution_count": 99,
      "metadata": {
        "colab": {
          "base_uri": "https://localhost:8080/",
          "height": 351
        },
        "id": "kkBaK0ZiHLO9",
        "outputId": "cd4576cd-761a-4bad-db9b-31ff8d9fe6d0"
      },
      "outputs": [
        {
          "data": {
            "image/png": "[encoded data removed]",
            "text/plain": [
              "<Figure size 1728x432 with 2 Axes>"
            ]
          },
          "metadata": {
            "needs_background": "light"
          },
          "output_type": "display_data"
        }
      ],
      "source": [
        "## cosine similarity\n",
        "CS_FE_H = []\n",
        "for i in FE_G.nodes:\n",
        "  cs = nx.simrank_similarity(FE_G, 19982092, i)\n",
        "  CS_FE_H.append(cs)\n",
        "\n",
        "CS_FE_L = []\n",
        "for i in FE_G.nodes:\n",
        "  cs = nx.simrank_similarity(FE_G, 349, i)\n",
        "  CS_FE_L.append(cs)\n",
        "fig, (ax1, ax2) = plt.subplots(ncols=2, figsize=(24, 6)) \n",
        "\n",
        "ax1.hist(CS_FE_H, bins=40, color=\"blue\")\n",
        "ax1.set_xlabel('cosine similarity')\n",
        "ax1.set_ylabel('Number')\n",
        "ax1.set_title('distributions of cosine similarity between \\n the highest Pagerank value node 19982092 and the rest of the nodes in the graph')\n",
        "\n",
        "\n",
        "ax2.hist(CS_FE_L, bins=40, color=\"blue\")\n",
        "ax2.set_xlabel('cosine similarity')\n",
        "ax2.set_ylabel('Number')\n",
        "ax2.set_title('distributions of cosine similarity between \\n the lowest Pagerank value node 349 and the rest of the nodes in the graph')\n",
        "plt.show()"
      ]
    },
    {
      "cell_type": "code",
      "execution_count": 96,
      "metadata": {
        "colab": {
          "base_uri": "https://localhost:8080/",
          "height": 353
        },
        "id": "t_tEF66r7OAb",
        "outputId": "2ea03579-8d25-4e20-c416-7f2f1fec944e"
      },
      "outputs": [
        {
          "data": {
            "image/png": "[encoded data removed]",
            "text/plain": [
              "<Figure size 1728x432 with 2 Axes>"
            ]
          },
          "metadata": {
            "needs_background": "light"
          },
          "output_type": "display_data"
        }
      ],
      "source": [
        "## normalized Euclidean distance\n",
        "# adding coordinates:\n",
        "for n in FE_G.nodes:\n",
        "    FE_G.nodes[n]['coords'] = np.random.rand(2)\n",
        "    \n",
        "def get_euclidean_distance(graph, source, dest):\n",
        "    x1, y1 = graph.nodes[source]['coords']\n",
        "    x2, y2 = graph.nodes[dest]['coords']\n",
        "    \n",
        "    return np.sqrt((x1-x2)**2 + (y1-y2)**2) \n",
        "\n",
        "ED_FE_H = []\n",
        "for i in FE_G.nodes:\n",
        "  Ed = get_euclidean_distance(FE_G, 19982092, i)\n",
        "  ED_FE_H.append(Ed)\n",
        "\n",
        "ED_FE_L = []\n",
        "for i in FE_G.nodes:\n",
        "  Ed = get_euclidean_distance(FE_G, 349, i)\n",
        "  ED_FE_L.append(Ed)\n",
        "\n",
        "fig, (ax1, ax2) = plt.subplots(ncols=2, figsize=(24, 6)) \n",
        "\n",
        "ax1.hist(ED_FE_H, bins=40, color=\"blue\")\n",
        "ax1.set_xlabel('normalized Euclidean distance')\n",
        "ax1.set_ylabel('Number')\n",
        "ax1.set_title('distributions of normalized Euclidean distance between \\n the highest Pagerank value node 19982092 and the rest of the nodes in the graph')\n",
        "\n",
        "\n",
        "ax2.hist(ED_FE_L, bins=40, color=\"blue\")\n",
        "ax2.set_xlabel('normalized Euclidean distance')\n",
        "ax2.set_ylabel('Number')\n",
        "ax2.set_title('distributions of normalized Euclidean distance between \\n the lowest Pagerank value node 349 and the rest of the nodes in the graph')\n",
        "plt.show()"
      ]
    }
  ],
  "metadata": {
    "colab": {
      "collapsed_sections": [],
      "provenance": []
    },
    "interpreter": {
      "hash": "501834c540f8b330c04c1d43ec1666643355d13f80c9caf7e1080236b3fb263f"
    },
    "kernelspec": {
      "display_name": "Python 3.9.4 64-bit",
      "language": "python",
      "name": "python3"
    },
    "language_info": {
      "codemirror_mode": {
        "name": "ipython",
        "version": 3
      },
      "file_extension": ".py",
      "mimetype": "text/x-python",
      "name": "python",
      "nbconvert_exporter": "python",
      "pygments_lexer": "ipython3",
      "version": "3.9.4"
    }
  },
  "nbformat": 4,
  "nbformat_minor": 0
}
